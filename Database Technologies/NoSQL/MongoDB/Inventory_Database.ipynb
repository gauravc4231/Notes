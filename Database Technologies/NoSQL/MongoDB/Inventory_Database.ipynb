{
 "cells": [
  {
   "cell_type": "code",
   "execution_count": null,
   "metadata": {},
   "outputs": [],
   "source": [
    "print(\"Hello\")"
   ]
  },
  {
   "cell_type": "code",
   "execution_count": 7,
   "metadata": {},
   "outputs": [],
   "source": [
    "import pymongo\n",
    "Client = pymongo.MongoClient('mongodb://127.0.01:27017/')"
   ]
  },
  {
   "cell_type": "code",
   "execution_count": 38,
   "metadata": {},
   "outputs": [],
   "source": [
    "import pymongo as pm\n",
    "\n",
    "client=pm.MongoClient(\"mongodb://localhost:27017\") #Connecting to Mongo Server\n"
   ]
  },
  {
   "cell_type": "code",
   "execution_count": 39,
   "metadata": {},
   "outputs": [],
   "source": [
    "db=client[\"Guarav1\"]\n",
    "inventory=db.store"
   ]
  },
  {
   "cell_type": "code",
   "execution_count": 34,
   "metadata": {},
   "outputs": [],
   "source": [
    "inventory = db.stdinformation"
   ]
  },
  {
   "cell_type": "code",
   "execution_count": 42,
   "metadata": {},
   "outputs": [
    {
     "ename": "IndentationError",
     "evalue": "unexpected indent (1692296776.py, line 42)",
     "output_type": "error",
     "traceback": [
      "\u001b[1;36m  Cell \u001b[1;32mIn [42], line 42\u001b[1;36m\u001b[0m\n\u001b[1;33m    inventory.insert_many(records)\u001b[0m\n\u001b[1;37m    ^\u001b[0m\n\u001b[1;31mIndentationError\u001b[0m\u001b[1;31m:\u001b[0m unexpected indent\n"
     ]
    }
   ],
   "source": [
    "records=[\n",
    "    {\"item\": \"canvas\",\n",
    "     \"qty\": 100,\n",
    "     \"size\": {\"h\": 28, \"w\": 35.5, \"uom\": \"cm\"},\n",
    "     \"status\": \"A\"},\n",
    "    {\"item\": \"journal\",\n",
    "     \"qty\": 25,\n",
    "     \"size\": {\"h\": 14, \"w\": 21, \"uom\": \"cm\"},\n",
    "     \"status\": \"A\"},\n",
    "    {\"item\": \"mat\",\n",
    "     \"qty\": 85,\n",
    "     \"size\": {\"h\": 27.9, \"w\": 35.5, \"uom\": \"cm\"},\n",
    "     \"status\": \"A\"},\n",
    "    {\"item\": \"mousepad\",\n",
    "     \"qty\": 25,\n",
    "     \"size\": {\"h\": 19, \"w\": 22.85, \"uom\": \"cm\"},\n",
    "     \"status\": \"P\"},\n",
    "    {\"item\": \"notebook\",\n",
    "     \"qty\": 50,\n",
    "     \"size\": {\"h\": 8.5, \"w\": 11, \"uom\": \"in\"},\n",
    "     \"status\": \"P\"},\n",
    "    {\"item\": \"paper\",\n",
    "     \"qty\": 100,\n",
    "     \"size\": {\"h\": 8.5, \"w\": 11, \"uom\": \"in\"},\n",
    "     \"status\": \"D\"},\n",
    "    {\"item\": \"planner\",\n",
    "     \"qty\": 75,\n",
    "     \"size\": {\"h\": 22.85, \"w\": 30, \"uom\": \"cm\"},\n",
    "     \"status\": \"D\"},\n",
    "    {\"item\": \"postcard\",\n",
    "     \"qty\": 45,\n",
    "     \"size\": {\"h\": 10, \"w\": 15.25, \"uom\": \"cm\"},\n",
    "     \"status\": \"A\"},\n",
    "    {\"item\": \"sketchbook\",\n",
    "     \"qty\": 80,\n",
    "     \"size\": {\"h\": 14, \"w\": 21, \"uom\": \"cm\"},\n",
    "     \"status\": \"A\"},\n",
    "    {\"item\": \"sketch pad\",\n",
    "     \"qty\": 95,\n",
    "     \"size\": {\"h\": 22.85, \"w\": 30.5, \"uom\": \"cm\"},\n",
    "     \"status\": \"A\"}]\n",
    "     inventory.insert_many(records)"
   ]
  },
  {
   "cell_type": "code",
   "execution_count": 21,
   "metadata": {},
   "outputs": [
    {
     "data": {
      "text/plain": [
       "<pymongo.results.InsertManyResult at 0x22079966aa0>"
      ]
     },
     "execution_count": 21,
     "metadata": {},
     "output_type": "execute_result"
    }
   ],
   "source": [
    "inventory.insert_many(records)"
   ]
  },
  {
   "cell_type": "code",
   "execution_count": 22,
   "metadata": {},
   "outputs": [
    {
     "data": {
      "text/plain": [
       "<pymongo.results.UpdateResult at 0x22079966fb0>"
      ]
     },
     "execution_count": 22,
     "metadata": {},
     "output_type": "execute_result"
    }
   ],
   "source": [
    "inventory.update_one({'item':'sketch pad'},{'$set':{'size.uom':'m','status':'P'},\"$currentDate\":{\"lastModified\":True}})"
   ]
  },
  {
   "cell_type": "code",
   "execution_count": 23,
   "metadata": {},
   "outputs": [
    {
     "data": {
      "text/plain": [
       "<pymongo.results.UpdateResult at 0x22078ff65c0>"
      ]
     },
     "execution_count": 23,
     "metadata": {},
     "output_type": "execute_result"
    }
   ],
   "source": [
    "inventory.update_one({'item':'sketch pad'},{'$set':{'size.uom':'m','status':'P'},\"$currentDate\":{\"lastModified\":True}})"
   ]
  },
  {
   "cell_type": "code",
   "execution_count": 27,
   "metadata": {},
   "outputs": [
    {
     "name": "stdout",
     "output_type": "stream",
     "text": [
      "{'_id': ObjectId('63884edad083a76135b1e734'), 'name': 'Shubham', 'age': 12}\n",
      "{'_id': ObjectId('63884f05d083a76135b1e736'), 'name': 'Shubham', 'age': 12}\n",
      "{'_id': ObjectId('63884fa7d083a76135b1e737'), 'first name': 'Gaurav', 'last name': 'Chindarkar'}\n",
      "{'_id': ObjectId('63884fa7d083a76135b1e738'), 'first name': 'Digambar', 'last name': 'patil'}\n",
      "{'_id': ObjectId('63884fa7d083a76135b1e739'), 'first name': 'Ajinkya', 'last name': 'Pol'}\n",
      "{'_id': ObjectId('63884fcad083a76135b1e73a'), 'first name': 'Gaurav', 'last name': 'Chindarkar'}\n",
      "{'_id': ObjectId('63884fcad083a76135b1e73b'), 'first name': 'Digambar', 'last name': 'patil'}\n",
      "{'_id': ObjectId('63884fcad083a76135b1e73c'), 'first name': 'Ajinkya', 'last name': 'Pol'}\n",
      "{'_id': ObjectId('6388521ad083a76135b1e73d'), 'name': 'jinks', 'age': 27}\n",
      "{'_id': ObjectId('6388521ad083a76135b1e73e'), 'name': 'j', 'age': 24}\n",
      "{'_id': ObjectId('6388521ad083a76135b1e73f'), 'name': 'G', 'age': 23}\n",
      "{'_id': ObjectId('6388521ad083a76135b1e740'), 'name': 'A', 'age': 23}\n",
      "{'_id': ObjectId('6388521ad083a76135b1e741'), 'name': 'B', 'age': 23}\n",
      "{'_id': ObjectId('63885244d083a76135b1e742'), 'name': 'jinks', 'age': 25}\n",
      "{'_id': ObjectId('63885244d083a76135b1e743'), 'name': 'j', 'age': 42}\n",
      "{'_id': ObjectId('63885244d083a76135b1e744'), 'name': 'G', 'age': 13}\n",
      "{'_id': ObjectId('63885244d083a76135b1e745'), 'name': 'A', 'age': 29}\n",
      "{'_id': ObjectId('63885244d083a76135b1e746'), 'name': 'B', 'age': 34}\n",
      "{'_id': ObjectId('638853d1d083a76135b1e747'), 'first name': 'G', 'last name': 'C', 'dept': 'A', 'quali': 'BE', 'age': 24}\n",
      "{'_id': ObjectId('638853d1d083a76135b1e748'), 'first name': 'A', 'last name': 'B', 'dept': 'B', 'quali': 'BTech', 'age': 26}\n",
      "{'_id': ObjectId('638853d1d083a76135b1e749'), 'first name': 'A', 'last name': 'P', 'dept': 'M', 'quali': 'BDS', 'age': 24}\n",
      "{'_id': ObjectId('638853d1d083a76135b1e74a'), 'first name': 'D', 'last name': 'P', 'dept': 'A', 'quali': '10th', 'age': 27}\n",
      "{'_id': ObjectId('63885d16d083a76135b1e755'), 'item': 'journal', 'qty': 25, 'size': {'h': 14, 'w': 21, 'uom': 'cm'}, 'status': 'A'}\n",
      "{'_id': ObjectId('63885d16d083a76135b1e756'), 'item': 'notebook', 'qty': 50, 'size': {'h': 8.5, 'w': 11, 'uom': 'in'}, 'status': 'A'}\n",
      "{'_id': ObjectId('63885d16d083a76135b1e757'), 'item': 'paper', 'qty': 100, 'size': {'h': 8.5, 'w': 11, 'uom': 'in'}, 'status': 'D'}\n",
      "{'_id': ObjectId('63885d16d083a76135b1e758'), 'item': 'planner', 'qty': 75, 'size': {'h': 22.85, 'w': 30, 'uom': 'cm'}, 'status': 'D'}\n",
      "{'_id': ObjectId('63885d16d083a76135b1e759'), 'item': 'postcard', 'qty': 45, 'size': {'h': 10, 'w': 15.25, 'uom': 'cm'}, 'status': 'A'}\n",
      "{'_id': ObjectId('63885d4bd083a76135b1e75a'), 'item': 'journal', 'qty': 25, 'size': {'h': 14, 'w': 21, 'uom': 'cm'}, 'status': 'A'}\n",
      "{'_id': ObjectId('63885d4bd083a76135b1e75b'), 'item': 'notebook', 'qty': 50, 'size': {'h': 8.5, 'w': 11, 'uom': 'in'}, 'status': 'A'}\n",
      "{'_id': ObjectId('63885d4bd083a76135b1e75c'), 'item': 'paper', 'qty': 100, 'size': {'h': 8.5, 'w': 11, 'uom': 'in'}, 'status': 'D'}\n",
      "{'_id': ObjectId('63885d4bd083a76135b1e75d'), 'item': 'planner', 'qty': 75, 'size': {'h': 22.85, 'w': 30, 'uom': 'cm'}, 'status': 'D'}\n",
      "{'_id': ObjectId('63885d4bd083a76135b1e75e'), 'item': 'postcard', 'qty': 45, 'size': {'h': 10, 'w': 15.25, 'uom': 'cm'}, 'status': 'A'}\n",
      "{'_id': ObjectId('63885d5ed083a76135b1e75f'), 'item': 'journal', 'qty': 25, 'size': {'h': 14, 'w': 21, 'uom': 'cm'}, 'status': 'A'}\n",
      "{'_id': ObjectId('63885d5ed083a76135b1e760'), 'item': 'notebook', 'qty': 50, 'size': {'h': 8.5, 'w': 11, 'uom': 'in'}, 'status': 'A'}\n",
      "{'_id': ObjectId('63885d5ed083a76135b1e761'), 'item': 'paper', 'qty': 100, 'size': {'h': 8.5, 'w': 11, 'uom': 'in'}, 'status': 'D'}\n",
      "{'_id': ObjectId('63885d5ed083a76135b1e762'), 'item': 'planner', 'qty': 75, 'size': {'h': 22.85, 'w': 30, 'uom': 'cm'}, 'status': 'D'}\n",
      "{'_id': ObjectId('63885d5ed083a76135b1e763'), 'item': 'postcard', 'qty': 45, 'size': {'h': 10, 'w': 15.25, 'uom': 'cm'}, 'status': 'A'}\n",
      "{'_id': ObjectId('63885e28d083a76135b1e764'), 'item': 'journal', 'qty': 25, 'size': {'h': 14, 'w': 21, 'uom': 'cm'}, 'status': 'A'}\n",
      "{'_id': ObjectId('63885e28d083a76135b1e765'), 'item': 'notebook', 'qty': 50, 'size': {'h': 8.5, 'w': 11, 'uom': 'in'}, 'status': 'A'}\n",
      "{'_id': ObjectId('63885e28d083a76135b1e766'), 'item': 'paper', 'qty': 100, 'size': {'h': 8.5, 'w': 11, 'uom': 'in'}, 'status': 'D'}\n",
      "{'_id': ObjectId('63885e28d083a76135b1e767'), 'item': 'planner', 'qty': 75, 'size': {'h': 22.85, 'w': 30, 'uom': 'cm'}, 'status': 'D'}\n",
      "{'_id': ObjectId('63885e28d083a76135b1e768'), 'item': 'postcard', 'qty': 45, 'size': {'h': 10, 'w': 15.25, 'uom': 'cm'}, 'status': 'A'}\n",
      "{'_id': ObjectId('6388784215efefa87ef69307'), 'name': 'Shubham', 'age': 12}\n",
      "{'_id': ObjectId('6388784715efefa87ef69308'), 'first name': 'Gaurav', 'last name': 'Chindarkar'}\n",
      "{'_id': ObjectId('6388784715efefa87ef69309'), 'first name': 'Digambar', 'last name': 'patil'}\n",
      "{'_id': ObjectId('6388784715efefa87ef6930a'), 'first name': 'Ajinkya', 'last name': 'Pol'}\n",
      "{'_id': ObjectId('638879b18de73c1b5b879344'), 'item': 'canvas', 'qty': 100, 'size': {'h': 28, 'w': 35.5, 'uom': 'cm'}, 'status': 'A'}\n",
      "{'_id': ObjectId('638879b18de73c1b5b879345'), 'item': 'journal', 'qty': 25, 'size': {'h': 14, 'w': 21, 'uom': 'cm'}, 'status': 'A'}\n",
      "{'_id': ObjectId('638879b18de73c1b5b879346'), 'item': 'mat', 'qty': 85, 'size': {'h': 27.9, 'w': 35.5, 'uom': 'cm'}, 'status': 'A'}\n",
      "{'_id': ObjectId('638879b18de73c1b5b879347'), 'item': 'mousepad', 'qty': 25, 'size': {'h': 19, 'w': 22.85, 'uom': 'cm'}, 'status': 'P'}\n",
      "{'_id': ObjectId('638879b18de73c1b5b879348'), 'item': 'notebook', 'qty': 50, 'size': {'h': 8.5, 'w': 11, 'uom': 'in'}, 'status': 'P'}\n",
      "{'_id': ObjectId('638879b18de73c1b5b879349'), 'item': 'paper', 'qty': 100, 'size': {'h': 8.5, 'w': 11, 'uom': 'in'}, 'status': 'D'}\n",
      "{'_id': ObjectId('638879b18de73c1b5b87934a'), 'item': 'planner', 'qty': 75, 'size': {'h': 22.85, 'w': 30, 'uom': 'cm'}, 'status': 'D'}\n",
      "{'_id': ObjectId('638879b18de73c1b5b87934b'), 'item': 'postcard', 'qty': 45, 'size': {'h': 10, 'w': 15.25, 'uom': 'cm'}, 'status': 'A'}\n",
      "{'_id': ObjectId('638879b18de73c1b5b87934c'), 'item': 'sketchbook', 'qty': 80, 'size': {'h': 14, 'w': 21, 'uom': 'cm'}, 'status': 'A'}\n",
      "{'_id': ObjectId('638879b18de73c1b5b87934d'), 'item': 'sketch pad', 'qty': 95, 'size': {'h': 22.85, 'w': 30.5, 'uom': 'm'}, 'status': 'P', 'lastModified': datetime.datetime(2022, 12, 1, 10, 6, 41, 827000)}\n",
      "{'_id': ObjectId('63887c7eaa3f7f0f201d6a6c'), 'item': 'canvas', 'qty': 100, 'size': {'h': 28, 'w': 35.5, 'uom': 'cm'}, 'status': 'A'}\n",
      "{'_id': ObjectId('63887c7eaa3f7f0f201d6a6d'), 'item': 'journal', 'qty': 25, 'size': {'h': 14, 'w': 21, 'uom': 'cm'}, 'status': 'A'}\n",
      "{'_id': ObjectId('63887c7eaa3f7f0f201d6a6e'), 'item': 'mat', 'qty': 85, 'size': {'h': 27.9, 'w': 35.5, 'uom': 'cm'}, 'status': 'A'}\n",
      "{'_id': ObjectId('63887c7eaa3f7f0f201d6a6f'), 'item': 'mousepad', 'qty': 25, 'size': {'h': 19, 'w': 22.85, 'uom': 'cm'}, 'status': 'P'}\n",
      "{'_id': ObjectId('63887c7eaa3f7f0f201d6a70'), 'item': 'notebook', 'qty': 50, 'size': {'h': 8.5, 'w': 11, 'uom': 'in'}, 'status': 'P'}\n",
      "{'_id': ObjectId('63887c7eaa3f7f0f201d6a71'), 'item': 'paper', 'qty': 100, 'size': {'h': 8.5, 'w': 11, 'uom': 'in'}, 'status': 'D'}\n",
      "{'_id': ObjectId('63887c7eaa3f7f0f201d6a72'), 'item': 'planner', 'qty': 75, 'size': {'h': 22.85, 'w': 30, 'uom': 'cm'}, 'status': 'D'}\n",
      "{'_id': ObjectId('63887c7eaa3f7f0f201d6a73'), 'item': 'postcard', 'qty': 45, 'size': {'h': 10, 'w': 15.25, 'uom': 'cm'}, 'status': 'A'}\n",
      "{'_id': ObjectId('63887c7eaa3f7f0f201d6a74'), 'item': 'sketchbook', 'qty': 80, 'size': {'h': 14, 'w': 21, 'uom': 'cm'}, 'status': 'A'}\n",
      "{'_id': ObjectId('63887c7eaa3f7f0f201d6a75'), 'item': 'sketch pad', 'qty': 95, 'size': {'h': 22.85, 'w': 30.5, 'uom': 'cm'}, 'status': 'A'}\n",
      "{'_id': ObjectId('63887cb1aa3f7f0f201d6a77'), 'item': 'canvas', 'qty': 100, 'size': {'h': 28, 'w': 35.5, 'uom': 'cm'}, 'status': 'A'}\n",
      "{'_id': ObjectId('63887cb1aa3f7f0f201d6a78'), 'item': 'journal', 'qty': 25, 'size': {'h': 14, 'w': 21, 'uom': 'cm'}, 'status': 'A'}\n",
      "{'_id': ObjectId('63887cb1aa3f7f0f201d6a79'), 'item': 'mat', 'qty': 85, 'size': {'h': 27.9, 'w': 35.5, 'uom': 'cm'}, 'status': 'A'}\n",
      "{'_id': ObjectId('63887cb1aa3f7f0f201d6a7a'), 'item': 'mousepad', 'qty': 25, 'size': {'h': 19, 'w': 22.85, 'uom': 'cm'}, 'status': 'P'}\n",
      "{'_id': ObjectId('63887cb1aa3f7f0f201d6a7b'), 'item': 'notebook', 'qty': 50, 'size': {'h': 8.5, 'w': 11, 'uom': 'in'}, 'status': 'P'}\n",
      "{'_id': ObjectId('63887cb1aa3f7f0f201d6a7c'), 'item': 'paper', 'qty': 100, 'size': {'h': 8.5, 'w': 11, 'uom': 'in'}, 'status': 'D'}\n",
      "{'_id': ObjectId('63887cb1aa3f7f0f201d6a7d'), 'item': 'planner', 'qty': 75, 'size': {'h': 22.85, 'w': 30, 'uom': 'cm'}, 'status': 'D'}\n",
      "{'_id': ObjectId('63887cb1aa3f7f0f201d6a7e'), 'item': 'postcard', 'qty': 45, 'size': {'h': 10, 'w': 15.25, 'uom': 'cm'}, 'status': 'A'}\n",
      "{'_id': ObjectId('63887cb1aa3f7f0f201d6a7f'), 'item': 'sketchbook', 'qty': 80, 'size': {'h': 14, 'w': 21, 'uom': 'cm'}, 'status': 'A'}\n",
      "{'_id': ObjectId('63887cb1aa3f7f0f201d6a80'), 'item': 'sketch pad', 'qty': 95, 'size': {'h': 22.85, 'w': 30.5, 'uom': 'cm'}, 'status': 'A'}\n"
     ]
    }
   ],
   "source": [
    "for i in inventory.find():\n",
    "    print(i)"
   ]
  },
  {
   "cell_type": "code",
   "execution_count": 56,
   "metadata": {},
   "outputs": [
    {
     "data": {
      "text/plain": [
       "<pymongo.results.UpdateResult at 0x22079a79f90>"
      ]
     },
     "execution_count": 56,
     "metadata": {},
     "output_type": "execute_result"
    }
   ],
   "source": [
    "inventory.update_many({'qty':'$lt:40'},{\"$set\":{\"size.uom\":\"in\",\"status\":'P'},\"$currentDate\":{\"lastModified\":True}})"
   ]
  },
  {
   "cell_type": "code",
   "execution_count": 58,
   "metadata": {},
   "outputs": [],
   "source": [
    "for i in inventory.find():\n",
    "    print(i)"
   ]
  },
  {
   "cell_type": "code",
   "execution_count": 59,
   "metadata": {},
   "outputs": [
    {
     "data": {
      "text/plain": [
       "<pymongo.results.UpdateResult at 0x2207866fc10>"
      ]
     },
     "execution_count": 59,
     "metadata": {},
     "output_type": "execute_result"
    }
   ],
   "source": [
    "inventory.replace_one({'item':'paper'},{'item':'paper','instock':[{'warehouse':'A','qty':60},{'warehouse':'B','qty':40}]})"
   ]
  },
  {
   "cell_type": "code",
   "execution_count": 60,
   "metadata": {},
   "outputs": [],
   "source": [
    "for i in inventory.find():\n",
    "    print(i)"
   ]
  },
  {
   "cell_type": "code",
   "execution_count": 61,
   "metadata": {},
   "outputs": [
    {
     "data": {
      "text/plain": [
       "<pymongo.results.UpdateResult at 0x22079a7b0a0>"
      ]
     },
     "execution_count": 61,
     "metadata": {},
     "output_type": "execute_result"
    }
   ],
   "source": [
    "inventory.update_many({\"quantity\":\"$lt:50\"},{\"$set\":{\"size.uom\":\"in\",\"status\":\"p\"},\"$currentDate\":{\"lastModified\":True}})"
   ]
  },
  {
   "cell_type": "code",
   "execution_count": 63,
   "metadata": {},
   "outputs": [],
   "source": [
    "for i in inventory.find():\n",
    "    print(i)"
   ]
  }
 ],
 "metadata": {
  "kernelspec": {
   "display_name": "Python 3.11.0 64-bit",
   "language": "python",
   "name": "python3"
  },
  "language_info": {
   "codemirror_mode": {
    "name": "ipython",
    "version": 3
   },
   "file_extension": ".py",
   "mimetype": "text/x-python",
   "name": "python",
   "nbconvert_exporter": "python",
   "pygments_lexer": "ipython3",
   "version": "3.11.0"
  },
  "orig_nbformat": 4,
  "vscode": {
   "interpreter": {
    "hash": "a5f954a518b072afc267ebd6eb29b2da47959f1e543e90f8fa4fe0e403b8accf"
   }
  }
 },
 "nbformat": 4,
 "nbformat_minor": 2
}
