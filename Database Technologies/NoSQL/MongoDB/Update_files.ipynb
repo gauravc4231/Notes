{
 "cells": [
  {
   "cell_type": "code",
   "execution_count": 17,
   "metadata": {},
   "outputs": [],
   "source": [
    "import pymongo\n",
    "client = pymongo.MongoClient('mongodb://127.0.01:27017/')"
   ]
  },
  {
   "cell_type": "code",
   "execution_count": 18,
   "metadata": {},
   "outputs": [],
   "source": [
    "import pymongo as pm\n",
    "\n",
    "client=pm.MongoClient(\"mongodb://localhost:27017\") #Connecting to Mongo Server\n"
   ]
  },
  {
   "cell_type": "code",
   "execution_count": 19,
   "metadata": {},
   "outputs": [],
   "source": [
    "db=client[\"Gaurav\"]\n",
    "inventory=db.store"
   ]
  },
  {
   "cell_type": "code",
   "execution_count": 20,
   "metadata": {},
   "outputs": [],
   "source": [
    "info1 = db.stdinformation"
   ]
  },
  {
   "cell_type": "code",
   "execution_count": 21,
   "metadata": {},
   "outputs": [],
   "source": [
    "records=[\n",
    "    {\"item\": \"canvas\",\n",
    "     \"qty\": 100,\n",
    "     \"size\": {\"h\": 28, \"w\": 35.5, \"uom\": \"cm\"},\n",
    "     \"status\": \"A\"},\n",
    "    {\"item\": \"journal\",\n",
    "     \"qty\": 25,\n",
    "     \"size\": {\"h\": 14, \"w\": 21, \"uom\": \"cm\"},\n",
    "     \"status\": \"A\"},\n",
    "    {\"item\": \"mat\",\n",
    "     \"qty\": 85,\n",
    "     \"size\": {\"h\": 27.9, \"w\": 35.5, \"uom\": \"cm\"},\n",
    "     \"status\": \"A\"},\n",
    "    {\"item\": \"mousepad\",\n",
    "     \"qty\": 25,\n",
    "     \"size\": {\"h\": 19, \"w\": 22.85, \"uom\": \"cm\"},\n",
    "     \"status\": \"P\"},\n",
    "    {\"item\": \"notebook\",\n",
    "     \"qty\": 50,\n",
    "     \"size\": {\"h\": 8.5, \"w\": 11, \"uom\": \"in\"},\n",
    "     \"status\": \"P\"},\n",
    "    {\"item\": \"paper\",\n",
    "     \"qty\": 100,\n",
    "     \"size\": {\"h\": 8.5, \"w\": 11, \"uom\": \"in\"},\n",
    "     \"status\": \"D\"},\n",
    "    {\"item\": \"planner\",\n",
    "     \"qty\": 75,\n",
    "     \"size\": {\"h\": 22.85, \"w\": 30, \"uom\": \"cm\"},\n",
    "     \"status\": \"D\"},\n",
    "    {\"item\": \"postcard\",\n",
    "     \"qty\": 45,\n",
    "     \"size\": {\"h\": 10, \"w\": 15.25, \"uom\": \"cm\"},\n",
    "     \"status\": \"A\"},\n",
    "    {\"item\": \"sketchbook\",\n",
    "     \"qty\": 80,\n",
    "     \"size\": {\"h\": 14, \"w\": 21, \"uom\": \"cm\"},\n",
    "     \"status\": \"A\"},\n",
    "    {\"item\": \"sketch pad\",\n",
    "     \"qty\": 95,\n",
    "     \"size\": {\"h\": 22.85, \"w\": 30.5, \"uom\": \"cm\"},\n",
    "     \"status\": \"A\"}]"
   ]
  },
  {
   "cell_type": "code",
   "execution_count": 22,
   "metadata": {},
   "outputs": [
    {
     "data": {
      "text/plain": [
       "<pymongo.results.InsertManyResult at 0x18145150970>"
      ]
     },
     "execution_count": 22,
     "metadata": {},
     "output_type": "execute_result"
    }
   ],
   "source": [
    " info1.insert_many(records)"
   ]
  },
  {
   "cell_type": "code",
   "execution_count": 23,
   "metadata": {},
   "outputs": [
    {
     "name": "stdout",
     "output_type": "stream",
     "text": [
      "{'_id': ObjectId('63888452b1e150d0dff9a5f5'), 'item': 'canvas', 'qty': 100, 'size': {'h': 28, 'w': 35.5, 'uom': 'cm'}, 'status': 'A'}\n",
      "{'_id': ObjectId('63888452b1e150d0dff9a5f6'), 'item': 'journal', 'qty': 25, 'size': {'h': 14, 'w': 21, 'uom': 'cm'}, 'status': 'A'}\n",
      "{'_id': ObjectId('63888452b1e150d0dff9a5f7'), 'item': 'mat', 'qty': 85, 'size': {'h': 27.9, 'w': 35.5, 'uom': 'cm'}, 'status': 'A'}\n",
      "{'_id': ObjectId('63888452b1e150d0dff9a5f8'), 'item': 'mousepad', 'qty': 25, 'size': {'h': 19, 'w': 22.85, 'uom': 'cm'}, 'status': 'P'}\n",
      "{'_id': ObjectId('63888452b1e150d0dff9a5f9'), 'item': 'notebook', 'qty': 50, 'size': {'h': 8.5, 'w': 11, 'uom': 'in'}, 'status': 'P'}\n",
      "{'_id': ObjectId('63888452b1e150d0dff9a5fa'), 'item': 'paper', 'qty': 100, 'size': {'h': 8.5, 'w': 11, 'uom': 'in'}, 'status': 'D'}\n",
      "{'_id': ObjectId('63888452b1e150d0dff9a5fb'), 'item': 'planner', 'qty': 75, 'size': {'h': 22.85, 'w': 30, 'uom': 'cm'}, 'status': 'D'}\n",
      "{'_id': ObjectId('63888452b1e150d0dff9a5fc'), 'item': 'postcard', 'qty': 45, 'size': {'h': 10, 'w': 15.25, 'uom': 'cm'}, 'status': 'A'}\n",
      "{'_id': ObjectId('63888452b1e150d0dff9a5fd'), 'item': 'sketchbook', 'qty': 80, 'size': {'h': 14, 'w': 21, 'uom': 'cm'}, 'status': 'A'}\n",
      "{'_id': ObjectId('63888452b1e150d0dff9a5fe'), 'item': 'sketch pad', 'qty': 95, 'size': {'h': 22.85, 'w': 30.5, 'uom': 'cm'}, 'status': 'A'}\n",
      "{'_id': ObjectId('6388856fddded4b8d869f164'), 'item': 'canvas', 'qty': 100, 'size': {'h': 28, 'w': 35.5, 'uom': 'cm'}, 'status': 'A'}\n",
      "{'_id': ObjectId('6388856fddded4b8d869f165'), 'item': 'journal', 'qty': 25, 'size': {'h': 14, 'w': 21, 'uom': 'cm'}, 'status': 'A'}\n",
      "{'_id': ObjectId('6388856fddded4b8d869f166'), 'item': 'mat', 'qty': 85, 'size': {'h': 27.9, 'w': 35.5, 'uom': 'cm'}, 'status': 'A'}\n",
      "{'_id': ObjectId('6388856fddded4b8d869f167'), 'item': 'mousepad', 'qty': 25, 'size': {'h': 19, 'w': 22.85, 'uom': 'cm'}, 'status': 'P'}\n",
      "{'_id': ObjectId('6388856fddded4b8d869f168'), 'item': 'notebook', 'qty': 50, 'size': {'h': 8.5, 'w': 11, 'uom': 'in'}, 'status': 'P'}\n",
      "{'_id': ObjectId('6388856fddded4b8d869f169'), 'item': 'paper', 'qty': 100, 'size': {'h': 8.5, 'w': 11, 'uom': 'in'}, 'status': 'D'}\n",
      "{'_id': ObjectId('6388856fddded4b8d869f16a'), 'item': 'planner', 'qty': 75, 'size': {'h': 22.85, 'w': 30, 'uom': 'cm'}, 'status': 'D'}\n",
      "{'_id': ObjectId('6388856fddded4b8d869f16b'), 'item': 'postcard', 'qty': 45, 'size': {'h': 10, 'w': 15.25, 'uom': 'cm'}, 'status': 'A'}\n",
      "{'_id': ObjectId('6388856fddded4b8d869f16c'), 'item': 'sketchbook', 'qty': 80, 'size': {'h': 14, 'w': 21, 'uom': 'cm'}, 'status': 'A'}\n",
      "{'_id': ObjectId('6388856fddded4b8d869f16d'), 'item': 'sketch pad', 'qty': 95, 'size': {'h': 22.85, 'w': 30.5, 'uom': 'cm'}, 'status': 'A'}\n",
      "{'_id': ObjectId('638886e5ddded4b8d869f177'), 'item': 'canvas', 'qty': 100, 'size': {'h': 28, 'w': 35.5, 'uom': 'cm'}, 'status': 'A'}\n",
      "{'_id': ObjectId('638886e5ddded4b8d869f178'), 'item': 'journal', 'qty': 25, 'size': {'h': 14, 'w': 21, 'uom': 'cm'}, 'status': 'A'}\n",
      "{'_id': ObjectId('638886e5ddded4b8d869f179'), 'item': 'mat', 'qty': 85, 'size': {'h': 27.9, 'w': 35.5, 'uom': 'cm'}, 'status': 'A'}\n",
      "{'_id': ObjectId('638886e5ddded4b8d869f17a'), 'item': 'mousepad', 'qty': 25, 'size': {'h': 19, 'w': 22.85, 'uom': 'cm'}, 'status': 'P'}\n",
      "{'_id': ObjectId('638886e5ddded4b8d869f17b'), 'item': 'notebook', 'qty': 50, 'size': {'h': 8.5, 'w': 11, 'uom': 'in'}, 'status': 'P'}\n",
      "{'_id': ObjectId('638886e5ddded4b8d869f17c'), 'item': 'paper', 'qty': 100, 'size': {'h': 8.5, 'w': 11, 'uom': 'in'}, 'status': 'D'}\n",
      "{'_id': ObjectId('638886e5ddded4b8d869f17d'), 'item': 'planner', 'qty': 75, 'size': {'h': 22.85, 'w': 30, 'uom': 'cm'}, 'status': 'D'}\n",
      "{'_id': ObjectId('638886e5ddded4b8d869f17e'), 'item': 'postcard', 'qty': 45, 'size': {'h': 10, 'w': 15.25, 'uom': 'cm'}, 'status': 'A'}\n",
      "{'_id': ObjectId('638886e5ddded4b8d869f17f'), 'item': 'sketchbook', 'qty': 80, 'size': {'h': 14, 'w': 21, 'uom': 'cm'}, 'status': 'A'}\n",
      "{'_id': ObjectId('638886e5ddded4b8d869f180'), 'item': 'sketch pad', 'qty': 95, 'size': {'h': 22.85, 'w': 30.5, 'uom': 'cm'}, 'status': 'A'}\n"
     ]
    }
   ],
   "source": [
    "for i in info1.find():\n",
    "    print(i)"
   ]
  },
  {
   "cell_type": "code",
   "execution_count": 24,
   "metadata": {},
   "outputs": [
    {
     "data": {
      "text/plain": [
       "<pymongo.results.UpdateResult at 0x18145f07d60>"
      ]
     },
     "execution_count": 24,
     "metadata": {},
     "output_type": "execute_result"
    }
   ],
   "source": [
    "info1.update_many({'qty':'$lt:40'},{\"$set\":{\"size.uom\":\"in\",\"status\":'P'},\"$currentDate\":{\"lastModified\":True}})"
   ]
  },
  {
   "cell_type": "code",
   "execution_count": 25,
   "metadata": {},
   "outputs": [
    {
     "name": "stdout",
     "output_type": "stream",
     "text": [
      "{'_id': ObjectId('63888452b1e150d0dff9a5f5'), 'item': 'canvas', 'qty': 100, 'size': {'h': 28, 'w': 35.5, 'uom': 'cm'}, 'status': 'A'}\n",
      "{'_id': ObjectId('63888452b1e150d0dff9a5f6'), 'item': 'journal', 'qty': 25, 'size': {'h': 14, 'w': 21, 'uom': 'cm'}, 'status': 'A'}\n",
      "{'_id': ObjectId('63888452b1e150d0dff9a5f7'), 'item': 'mat', 'qty': 85, 'size': {'h': 27.9, 'w': 35.5, 'uom': 'cm'}, 'status': 'A'}\n",
      "{'_id': ObjectId('63888452b1e150d0dff9a5f8'), 'item': 'mousepad', 'qty': 25, 'size': {'h': 19, 'w': 22.85, 'uom': 'cm'}, 'status': 'P'}\n",
      "{'_id': ObjectId('63888452b1e150d0dff9a5f9'), 'item': 'notebook', 'qty': 50, 'size': {'h': 8.5, 'w': 11, 'uom': 'in'}, 'status': 'P'}\n",
      "{'_id': ObjectId('63888452b1e150d0dff9a5fa'), 'item': 'paper', 'qty': 100, 'size': {'h': 8.5, 'w': 11, 'uom': 'in'}, 'status': 'D'}\n",
      "{'_id': ObjectId('63888452b1e150d0dff9a5fb'), 'item': 'planner', 'qty': 75, 'size': {'h': 22.85, 'w': 30, 'uom': 'cm'}, 'status': 'D'}\n",
      "{'_id': ObjectId('63888452b1e150d0dff9a5fc'), 'item': 'postcard', 'qty': 45, 'size': {'h': 10, 'w': 15.25, 'uom': 'cm'}, 'status': 'A'}\n",
      "{'_id': ObjectId('63888452b1e150d0dff9a5fd'), 'item': 'sketchbook', 'qty': 80, 'size': {'h': 14, 'w': 21, 'uom': 'cm'}, 'status': 'A'}\n",
      "{'_id': ObjectId('63888452b1e150d0dff9a5fe'), 'item': 'sketch pad', 'qty': 95, 'size': {'h': 22.85, 'w': 30.5, 'uom': 'cm'}, 'status': 'A'}\n",
      "{'_id': ObjectId('6388856fddded4b8d869f164'), 'item': 'canvas', 'qty': 100, 'size': {'h': 28, 'w': 35.5, 'uom': 'cm'}, 'status': 'A'}\n",
      "{'_id': ObjectId('6388856fddded4b8d869f165'), 'item': 'journal', 'qty': 25, 'size': {'h': 14, 'w': 21, 'uom': 'cm'}, 'status': 'A'}\n",
      "{'_id': ObjectId('6388856fddded4b8d869f166'), 'item': 'mat', 'qty': 85, 'size': {'h': 27.9, 'w': 35.5, 'uom': 'cm'}, 'status': 'A'}\n",
      "{'_id': ObjectId('6388856fddded4b8d869f167'), 'item': 'mousepad', 'qty': 25, 'size': {'h': 19, 'w': 22.85, 'uom': 'cm'}, 'status': 'P'}\n",
      "{'_id': ObjectId('6388856fddded4b8d869f168'), 'item': 'notebook', 'qty': 50, 'size': {'h': 8.5, 'w': 11, 'uom': 'in'}, 'status': 'P'}\n",
      "{'_id': ObjectId('6388856fddded4b8d869f169'), 'item': 'paper', 'qty': 100, 'size': {'h': 8.5, 'w': 11, 'uom': 'in'}, 'status': 'D'}\n",
      "{'_id': ObjectId('6388856fddded4b8d869f16a'), 'item': 'planner', 'qty': 75, 'size': {'h': 22.85, 'w': 30, 'uom': 'cm'}, 'status': 'D'}\n",
      "{'_id': ObjectId('6388856fddded4b8d869f16b'), 'item': 'postcard', 'qty': 45, 'size': {'h': 10, 'w': 15.25, 'uom': 'cm'}, 'status': 'A'}\n",
      "{'_id': ObjectId('6388856fddded4b8d869f16c'), 'item': 'sketchbook', 'qty': 80, 'size': {'h': 14, 'w': 21, 'uom': 'cm'}, 'status': 'A'}\n",
      "{'_id': ObjectId('6388856fddded4b8d869f16d'), 'item': 'sketch pad', 'qty': 95, 'size': {'h': 22.85, 'w': 30.5, 'uom': 'cm'}, 'status': 'A'}\n",
      "{'_id': ObjectId('638886e5ddded4b8d869f177'), 'item': 'canvas', 'qty': 100, 'size': {'h': 28, 'w': 35.5, 'uom': 'cm'}, 'status': 'A'}\n",
      "{'_id': ObjectId('638886e5ddded4b8d869f178'), 'item': 'journal', 'qty': 25, 'size': {'h': 14, 'w': 21, 'uom': 'cm'}, 'status': 'A'}\n",
      "{'_id': ObjectId('638886e5ddded4b8d869f179'), 'item': 'mat', 'qty': 85, 'size': {'h': 27.9, 'w': 35.5, 'uom': 'cm'}, 'status': 'A'}\n",
      "{'_id': ObjectId('638886e5ddded4b8d869f17a'), 'item': 'mousepad', 'qty': 25, 'size': {'h': 19, 'w': 22.85, 'uom': 'cm'}, 'status': 'P'}\n",
      "{'_id': ObjectId('638886e5ddded4b8d869f17b'), 'item': 'notebook', 'qty': 50, 'size': {'h': 8.5, 'w': 11, 'uom': 'in'}, 'status': 'P'}\n",
      "{'_id': ObjectId('638886e5ddded4b8d869f17c'), 'item': 'paper', 'qty': 100, 'size': {'h': 8.5, 'w': 11, 'uom': 'in'}, 'status': 'D'}\n",
      "{'_id': ObjectId('638886e5ddded4b8d869f17d'), 'item': 'planner', 'qty': 75, 'size': {'h': 22.85, 'w': 30, 'uom': 'cm'}, 'status': 'D'}\n",
      "{'_id': ObjectId('638886e5ddded4b8d869f17e'), 'item': 'postcard', 'qty': 45, 'size': {'h': 10, 'w': 15.25, 'uom': 'cm'}, 'status': 'A'}\n",
      "{'_id': ObjectId('638886e5ddded4b8d869f17f'), 'item': 'sketchbook', 'qty': 80, 'size': {'h': 14, 'w': 21, 'uom': 'cm'}, 'status': 'A'}\n",
      "{'_id': ObjectId('638886e5ddded4b8d869f180'), 'item': 'sketch pad', 'qty': 95, 'size': {'h': 22.85, 'w': 30.5, 'uom': 'cm'}, 'status': 'A'}\n"
     ]
    }
   ],
   "source": [
    "for i in info1.find():\n",
    "    print(i)"
   ]
  },
  {
   "cell_type": "code",
   "execution_count": 26,
   "metadata": {},
   "outputs": [],
   "source": [
    "mydatabase = client['Studentsts']"
   ]
  },
  {
   "cell_type": "code",
   "execution_count": 27,
   "metadata": {},
   "outputs": [],
   "source": [
    "import pymongo as pm\n",
    "\n",
    "client=pm.MongoClient(\"mongodb://localhost:27017\") #Connecting to Mongo Server"
   ]
  },
  {
   "cell_type": "code",
   "execution_count": 28,
   "metadata": {},
   "outputs": [
    {
     "data": {
      "text/plain": [
       "<pymongo.results.InsertManyResult at 0x181451506a0>"
      ]
     },
     "execution_count": 28,
     "metadata": {},
     "output_type": "execute_result"
    }
   ],
   "source": [
    "mydatabase = client [ 'Studentsts']\n",
    "\n",
    "#Access collection of the database \n",
    "collection=mydatabase['studentscores']\n",
    "\n",
    "data = [\n",
    "\n",
    "{\"user\":\"Rashmi\", \"subject\": \"Database\", \"score\":80},\n",
    "\n",
    "{\"user\": \"Aditi\",\n",
    "\n",
    "\"subject\": \"JavaScript\", \"score\":90},\n",
    "\n",
    "{\"user\": \"Aditi\",\n",
    "\n",
    "\"subject\": \"Database\", \"score\":85},\n",
    "\n",
    "{\"user\": \"Rashmi\", \"subject\": \"JavaScript\", \"score\":75},\n",
    "\n",
    "{\"user\": \"Aditi\", \"subject\": \"Data Science\", \"score\":60}, {\"user\":\"Rashmi\", \"subject\": \"Data Science\", \"score\":95}]\n",
    "\n",
    "collection.insert_many (data)"
   ]
  },
  {
   "cell_type": "code",
   "execution_count": 33,
   "metadata": {},
   "outputs": [
    {
     "ename": "OperationFailure",
     "evalue": "The field 'id' must be an accumulator object, full error: {'ok': 0.0, 'errmsg': \"The field 'id' must be an accumulator object\", 'code': 40234, 'codeName': 'Location40234'}",
     "output_type": "error",
     "traceback": [
      "\u001b[1;31m---------------------------------------------------------------------------\u001b[0m",
      "\u001b[1;31mOperationFailure\u001b[0m                          Traceback (most recent call last)",
      "Cell \u001b[1;32mIn [33], line 1\u001b[0m\n\u001b[1;32m----> 1\u001b[0m agg_result \u001b[39m=\u001b[39m collection\u001b[39m.\u001b[39;49maggregate(\n\u001b[0;32m      2\u001b[0m     [{\n\u001b[0;32m      3\u001b[0m     \u001b[39m\"\u001b[39;49m\u001b[39m$group\u001b[39;49m\u001b[39m\"\u001b[39;49m :\n\u001b[0;32m      4\u001b[0m             {\u001b[39m'\u001b[39;49m\u001b[39mid\u001b[39;49m\u001b[39m'\u001b[39;49m:\u001b[39m\"\u001b[39;49m\u001b[39m$user\u001b[39;49m\u001b[39m\"\u001b[39;49m,\n\u001b[0;32m      5\u001b[0m             \u001b[39m'\u001b[39;49m\u001b[39mTotal Records\u001b[39;49m\u001b[39m'\u001b[39;49m:{\u001b[39m'\u001b[39;49m\u001b[39m$sum\u001b[39;49m\u001b[39m'\u001b[39;49m:\u001b[39m1\u001b[39;49m}\n\u001b[0;32m      6\u001b[0m             }}\n\u001b[0;32m      7\u001b[0m     ])\n",
      "File \u001b[1;32mc:\\Users\\Gaurav\\AppData\\Local\\Programs\\Python\\Python311\\Lib\\site-packages\\pymongo\\collection.py:2436\u001b[0m, in \u001b[0;36mCollection.aggregate\u001b[1;34m(self, pipeline, session, let, comment, **kwargs)\u001b[0m\n\u001b[0;32m   2358\u001b[0m \u001b[39m\"\"\"Perform an aggregation using the aggregation framework on this\u001b[39;00m\n\u001b[0;32m   2359\u001b[0m \u001b[39mcollection.\u001b[39;00m\n\u001b[0;32m   2360\u001b[0m \n\u001b[1;32m   (...)\u001b[0m\n\u001b[0;32m   2432\u001b[0m \u001b[39m    https://mongodb.com/docs/manual/reference/command/aggregate\u001b[39;00m\n\u001b[0;32m   2433\u001b[0m \u001b[39m\"\"\"\u001b[39;00m\n\u001b[0;32m   2435\u001b[0m \u001b[39mwith\u001b[39;00m \u001b[39mself\u001b[39m\u001b[39m.\u001b[39m__database\u001b[39m.\u001b[39mclient\u001b[39m.\u001b[39m_tmp_session(session, close\u001b[39m=\u001b[39m\u001b[39mFalse\u001b[39;00m) \u001b[39mas\u001b[39;00m s:\n\u001b[1;32m-> 2436\u001b[0m     \u001b[39mreturn\u001b[39;00m \u001b[39mself\u001b[39;49m\u001b[39m.\u001b[39;49m_aggregate(\n\u001b[0;32m   2437\u001b[0m         _CollectionAggregationCommand,\n\u001b[0;32m   2438\u001b[0m         pipeline,\n\u001b[0;32m   2439\u001b[0m         CommandCursor,\n\u001b[0;32m   2440\u001b[0m         session\u001b[39m=\u001b[39;49ms,\n\u001b[0;32m   2441\u001b[0m         explicit_session\u001b[39m=\u001b[39;49msession \u001b[39mis\u001b[39;49;00m \u001b[39mnot\u001b[39;49;00m \u001b[39mNone\u001b[39;49;00m,\n\u001b[0;32m   2442\u001b[0m         let\u001b[39m=\u001b[39;49mlet,\n\u001b[0;32m   2443\u001b[0m         comment\u001b[39m=\u001b[39;49mcomment,\n\u001b[0;32m   2444\u001b[0m         \u001b[39m*\u001b[39;49m\u001b[39m*\u001b[39;49mkwargs,\n\u001b[0;32m   2445\u001b[0m     )\n",
      "File \u001b[1;32mc:\\Users\\Gaurav\\AppData\\Local\\Programs\\Python\\Python311\\Lib\\site-packages\\pymongo\\_csot.py:105\u001b[0m, in \u001b[0;36mapply.<locals>.csot_wrapper\u001b[1;34m(self, *args, **kwargs)\u001b[0m\n\u001b[0;32m    103\u001b[0m         \u001b[39mwith\u001b[39;00m _TimeoutContext(timeout):\n\u001b[0;32m    104\u001b[0m             \u001b[39mreturn\u001b[39;00m func(\u001b[39mself\u001b[39m, \u001b[39m*\u001b[39margs, \u001b[39m*\u001b[39m\u001b[39m*\u001b[39mkwargs)\n\u001b[1;32m--> 105\u001b[0m \u001b[39mreturn\u001b[39;00m func(\u001b[39mself\u001b[39;49m, \u001b[39m*\u001b[39;49margs, \u001b[39m*\u001b[39;49m\u001b[39m*\u001b[39;49mkwargs)\n",
      "File \u001b[1;32mc:\\Users\\Gaurav\\AppData\\Local\\Programs\\Python\\Python311\\Lib\\site-packages\\pymongo\\collection.py:2343\u001b[0m, in \u001b[0;36mCollection._aggregate\u001b[1;34m(self, aggregation_command, pipeline, cursor_class, session, explicit_session, let, comment, **kwargs)\u001b[0m\n\u001b[0;32m   2332\u001b[0m     kwargs[\u001b[39m\"\u001b[39m\u001b[39mcomment\u001b[39m\u001b[39m\"\u001b[39m] \u001b[39m=\u001b[39m comment\n\u001b[0;32m   2333\u001b[0m cmd \u001b[39m=\u001b[39m aggregation_command(\n\u001b[0;32m   2334\u001b[0m     \u001b[39mself\u001b[39m,\n\u001b[0;32m   2335\u001b[0m     cursor_class,\n\u001b[1;32m   (...)\u001b[0m\n\u001b[0;32m   2340\u001b[0m     user_fields\u001b[39m=\u001b[39m{\u001b[39m\"\u001b[39m\u001b[39mcursor\u001b[39m\u001b[39m\"\u001b[39m: {\u001b[39m\"\u001b[39m\u001b[39mfirstBatch\u001b[39m\u001b[39m\"\u001b[39m: \u001b[39m1\u001b[39m}},\n\u001b[0;32m   2341\u001b[0m )\n\u001b[1;32m-> 2343\u001b[0m \u001b[39mreturn\u001b[39;00m \u001b[39mself\u001b[39;49m\u001b[39m.\u001b[39;49m__database\u001b[39m.\u001b[39;49mclient\u001b[39m.\u001b[39;49m_retryable_read(\n\u001b[0;32m   2344\u001b[0m     cmd\u001b[39m.\u001b[39;49mget_cursor,\n\u001b[0;32m   2345\u001b[0m     cmd\u001b[39m.\u001b[39;49mget_read_preference(session),\n\u001b[0;32m   2346\u001b[0m     session,\n\u001b[0;32m   2347\u001b[0m     retryable\u001b[39m=\u001b[39;49m\u001b[39mnot\u001b[39;49;00m cmd\u001b[39m.\u001b[39;49m_performs_write,\n\u001b[0;32m   2348\u001b[0m )\n",
      "File \u001b[1;32mc:\\Users\\Gaurav\\AppData\\Local\\Programs\\Python\\Python311\\Lib\\site-packages\\pymongo\\_csot.py:105\u001b[0m, in \u001b[0;36mapply.<locals>.csot_wrapper\u001b[1;34m(self, *args, **kwargs)\u001b[0m\n\u001b[0;32m    103\u001b[0m         \u001b[39mwith\u001b[39;00m _TimeoutContext(timeout):\n\u001b[0;32m    104\u001b[0m             \u001b[39mreturn\u001b[39;00m func(\u001b[39mself\u001b[39m, \u001b[39m*\u001b[39margs, \u001b[39m*\u001b[39m\u001b[39m*\u001b[39mkwargs)\n\u001b[1;32m--> 105\u001b[0m \u001b[39mreturn\u001b[39;00m func(\u001b[39mself\u001b[39;49m, \u001b[39m*\u001b[39;49margs, \u001b[39m*\u001b[39;49m\u001b[39m*\u001b[39;49mkwargs)\n",
      "File \u001b[1;32mc:\\Users\\Gaurav\\AppData\\Local\\Programs\\Python\\Python311\\Lib\\site-packages\\pymongo\\mongo_client.py:1448\u001b[0m, in \u001b[0;36mMongoClient._retryable_read\u001b[1;34m(self, func, read_pref, session, address, retryable)\u001b[0m\n\u001b[0;32m   1446\u001b[0m             \u001b[39massert\u001b[39;00m last_error \u001b[39mis\u001b[39;00m \u001b[39mnot\u001b[39;00m \u001b[39mNone\u001b[39;00m\n\u001b[0;32m   1447\u001b[0m             \u001b[39mraise\u001b[39;00m last_error\n\u001b[1;32m-> 1448\u001b[0m         \u001b[39mreturn\u001b[39;00m func(session, server, sock_info, read_pref)\n\u001b[0;32m   1449\u001b[0m \u001b[39mexcept\u001b[39;00m ServerSelectionTimeoutError:\n\u001b[0;32m   1450\u001b[0m     \u001b[39mif\u001b[39;00m retrying:\n\u001b[0;32m   1451\u001b[0m         \u001b[39m# The application may think the write was never attempted\u001b[39;00m\n\u001b[0;32m   1452\u001b[0m         \u001b[39m# if we raise ServerSelectionTimeoutError on the retry\u001b[39;00m\n\u001b[0;32m   1453\u001b[0m         \u001b[39m# attempt. Raise the original exception instead.\u001b[39;00m\n",
      "File \u001b[1;32mc:\\Users\\Gaurav\\AppData\\Local\\Programs\\Python\\Python311\\Lib\\site-packages\\pymongo\\aggregation.py:142\u001b[0m, in \u001b[0;36m_AggregationCommand.get_cursor\u001b[1;34m(self, session, server, sock_info, read_preference)\u001b[0m\n\u001b[0;32m    139\u001b[0m     write_concern \u001b[39m=\u001b[39m \u001b[39mNone\u001b[39;00m\n\u001b[0;32m    141\u001b[0m \u001b[39m# Run command.\u001b[39;00m\n\u001b[1;32m--> 142\u001b[0m result \u001b[39m=\u001b[39m sock_info\u001b[39m.\u001b[39;49mcommand(\n\u001b[0;32m    143\u001b[0m     \u001b[39mself\u001b[39;49m\u001b[39m.\u001b[39;49m_database\u001b[39m.\u001b[39;49mname,\n\u001b[0;32m    144\u001b[0m     cmd,\n\u001b[0;32m    145\u001b[0m     read_preference,\n\u001b[0;32m    146\u001b[0m     \u001b[39mself\u001b[39;49m\u001b[39m.\u001b[39;49m_target\u001b[39m.\u001b[39;49mcodec_options,\n\u001b[0;32m    147\u001b[0m     parse_write_concern_error\u001b[39m=\u001b[39;49m\u001b[39mTrue\u001b[39;49;00m,\n\u001b[0;32m    148\u001b[0m     read_concern\u001b[39m=\u001b[39;49mread_concern,\n\u001b[0;32m    149\u001b[0m     write_concern\u001b[39m=\u001b[39;49mwrite_concern,\n\u001b[0;32m    150\u001b[0m     collation\u001b[39m=\u001b[39;49m\u001b[39mself\u001b[39;49m\u001b[39m.\u001b[39;49m_collation,\n\u001b[0;32m    151\u001b[0m     session\u001b[39m=\u001b[39;49msession,\n\u001b[0;32m    152\u001b[0m     client\u001b[39m=\u001b[39;49m\u001b[39mself\u001b[39;49m\u001b[39m.\u001b[39;49m_database\u001b[39m.\u001b[39;49mclient,\n\u001b[0;32m    153\u001b[0m     user_fields\u001b[39m=\u001b[39;49m\u001b[39mself\u001b[39;49m\u001b[39m.\u001b[39;49m_user_fields,\n\u001b[0;32m    154\u001b[0m )\n\u001b[0;32m    156\u001b[0m \u001b[39mif\u001b[39;00m \u001b[39mself\u001b[39m\u001b[39m.\u001b[39m_result_processor:\n\u001b[0;32m    157\u001b[0m     \u001b[39mself\u001b[39m\u001b[39m.\u001b[39m_result_processor(result, sock_info)\n",
      "File \u001b[1;32mc:\\Users\\Gaurav\\AppData\\Local\\Programs\\Python\\Python311\\Lib\\site-packages\\pymongo\\pool.py:767\u001b[0m, in \u001b[0;36mSocketInfo.command\u001b[1;34m(self, dbname, spec, read_preference, codec_options, check, allowable_errors, read_concern, write_concern, parse_write_concern_error, collation, session, client, retryable_write, publish_events, user_fields, exhaust_allowed)\u001b[0m\n\u001b[0;32m    765\u001b[0m     \u001b[39mself\u001b[39m\u001b[39m.\u001b[39m_raise_if_not_writable(unacknowledged)\n\u001b[0;32m    766\u001b[0m \u001b[39mtry\u001b[39;00m:\n\u001b[1;32m--> 767\u001b[0m     \u001b[39mreturn\u001b[39;00m command(\n\u001b[0;32m    768\u001b[0m         \u001b[39mself\u001b[39;49m,\n\u001b[0;32m    769\u001b[0m         dbname,\n\u001b[0;32m    770\u001b[0m         spec,\n\u001b[0;32m    771\u001b[0m         \u001b[39mself\u001b[39;49m\u001b[39m.\u001b[39;49mis_mongos,\n\u001b[0;32m    772\u001b[0m         read_preference,\n\u001b[0;32m    773\u001b[0m         codec_options,\n\u001b[0;32m    774\u001b[0m         session,\n\u001b[0;32m    775\u001b[0m         client,\n\u001b[0;32m    776\u001b[0m         check,\n\u001b[0;32m    777\u001b[0m         allowable_errors,\n\u001b[0;32m    778\u001b[0m         \u001b[39mself\u001b[39;49m\u001b[39m.\u001b[39;49maddress,\n\u001b[0;32m    779\u001b[0m         listeners,\n\u001b[0;32m    780\u001b[0m         \u001b[39mself\u001b[39;49m\u001b[39m.\u001b[39;49mmax_bson_size,\n\u001b[0;32m    781\u001b[0m         read_concern,\n\u001b[0;32m    782\u001b[0m         parse_write_concern_error\u001b[39m=\u001b[39;49mparse_write_concern_error,\n\u001b[0;32m    783\u001b[0m         collation\u001b[39m=\u001b[39;49mcollation,\n\u001b[0;32m    784\u001b[0m         compression_ctx\u001b[39m=\u001b[39;49m\u001b[39mself\u001b[39;49m\u001b[39m.\u001b[39;49mcompression_context,\n\u001b[0;32m    785\u001b[0m         use_op_msg\u001b[39m=\u001b[39;49m\u001b[39mself\u001b[39;49m\u001b[39m.\u001b[39;49mop_msg_enabled,\n\u001b[0;32m    786\u001b[0m         unacknowledged\u001b[39m=\u001b[39;49munacknowledged,\n\u001b[0;32m    787\u001b[0m         user_fields\u001b[39m=\u001b[39;49muser_fields,\n\u001b[0;32m    788\u001b[0m         exhaust_allowed\u001b[39m=\u001b[39;49mexhaust_allowed,\n\u001b[0;32m    789\u001b[0m         write_concern\u001b[39m=\u001b[39;49mwrite_concern,\n\u001b[0;32m    790\u001b[0m     )\n\u001b[0;32m    791\u001b[0m \u001b[39mexcept\u001b[39;00m (OperationFailure, NotPrimaryError):\n\u001b[0;32m    792\u001b[0m     \u001b[39mraise\u001b[39;00m\n",
      "File \u001b[1;32mc:\\Users\\Gaurav\\AppData\\Local\\Programs\\Python\\Python311\\Lib\\site-packages\\pymongo\\network.py:166\u001b[0m, in \u001b[0;36mcommand\u001b[1;34m(sock_info, dbname, spec, is_mongos, read_preference, codec_options, session, client, check, allowable_errors, address, listeners, max_bson_size, read_concern, parse_write_concern_error, collation, compression_ctx, use_op_msg, unacknowledged, user_fields, exhaust_allowed, write_concern)\u001b[0m\n\u001b[0;32m    164\u001b[0m             client\u001b[39m.\u001b[39m_process_response(response_doc, session)\n\u001b[0;32m    165\u001b[0m         \u001b[39mif\u001b[39;00m check:\n\u001b[1;32m--> 166\u001b[0m             helpers\u001b[39m.\u001b[39;49m_check_command_response(\n\u001b[0;32m    167\u001b[0m                 response_doc,\n\u001b[0;32m    168\u001b[0m                 sock_info\u001b[39m.\u001b[39;49mmax_wire_version,\n\u001b[0;32m    169\u001b[0m                 allowable_errors,\n\u001b[0;32m    170\u001b[0m                 parse_write_concern_error\u001b[39m=\u001b[39;49mparse_write_concern_error,\n\u001b[0;32m    171\u001b[0m             )\n\u001b[0;32m    172\u001b[0m \u001b[39mexcept\u001b[39;00m \u001b[39mException\u001b[39;00m \u001b[39mas\u001b[39;00m exc:\n\u001b[0;32m    173\u001b[0m     \u001b[39mif\u001b[39;00m publish:\n",
      "File \u001b[1;32mc:\\Users\\Gaurav\\AppData\\Local\\Programs\\Python\\Python311\\Lib\\site-packages\\pymongo\\helpers.py:181\u001b[0m, in \u001b[0;36m_check_command_response\u001b[1;34m(response, max_wire_version, allowable_errors, parse_write_concern_error)\u001b[0m\n\u001b[0;32m    178\u001b[0m \u001b[39melif\u001b[39;00m code \u001b[39m==\u001b[39m \u001b[39m43\u001b[39m:\n\u001b[0;32m    179\u001b[0m     \u001b[39mraise\u001b[39;00m CursorNotFound(errmsg, code, response, max_wire_version)\n\u001b[1;32m--> 181\u001b[0m \u001b[39mraise\u001b[39;00m OperationFailure(errmsg, code, response, max_wire_version)\n",
      "\u001b[1;31mOperationFailure\u001b[0m: The field 'id' must be an accumulator object, full error: {'ok': 0.0, 'errmsg': \"The field 'id' must be an accumulator object\", 'code': 40234, 'codeName': 'Location40234'}"
     ]
    }
   ],
   "source": [
    "agg_result = collection.aggregate(\n",
    "    [{\n",
    "    \"$group\" :\n",
    "            {'id':\"$user\",\n",
    "            'Total Records':{'$sum':1}\n",
    "            }}\n",
    "    ])\n",
    "\n"
   ]
  },
  {
   "cell_type": "code",
   "execution_count": 34,
   "metadata": {},
   "outputs": [],
   "source": [
    "agg_result=collection.aggregate([{\"$group\":{\"_id\":\"$user\",\"Total_records\":{\"$sum\":1}}}])"
   ]
  },
  {
   "cell_type": "code",
   "execution_count": 35,
   "metadata": {},
   "outputs": [
    {
     "name": "stdout",
     "output_type": "stream",
     "text": [
      "{'_id': 'Rashmi', 'Total_records': 6}\n",
      "{'_id': 'Aditi', 'Total_records': 6}\n"
     ]
    }
   ],
   "source": [
    "for i in agg_result:\n",
    "    print(i)"
   ]
  },
  {
   "cell_type": "code",
   "execution_count": 42,
   "metadata": {},
   "outputs": [],
   "source": [
    "import datetime as datetime"
   ]
  },
  {
   "cell_type": "code",
   "execution_count": null,
   "metadata": {},
   "outputs": [],
   "source": [
    "#average"
   ]
  },
  {
   "cell_type": "code",
   "execution_count": 43,
   "metadata": {},
   "outputs": [],
   "source": [
    "data=[{ \"_id\" : 1, \"item\": \"abc\", \"price\": 10, \"quantity\": 2, \"date\" : datetime.datetime.utcnow()},\n",
    "{\"_id\": 2, \"item\": \"jkl\", \"price\": 20, \"quantity\": 1, \"date\": datetime.datetime.utcnow() },\n",
    "{\"_id\": 3, \"item\": \"xyz\", \"price\": 5, \"quantity\": 5, \"date\": datetime.datetime.utcnow() },\n",
    "{\"_id\": 4, \"item\": \"abc\", \"price\": 10, \"quantity\": 10, \"date\" :datetime.datetime.utcnow()},\n",
    "{\"_id\": 5, \"item\": \"xyz\", \"price\": 5, \"quantity\": 10, \"date\": datetime.datetime.utcnow()}]"
   ]
  },
  {
   "cell_type": "code",
   "execution_count": 46,
   "metadata": {},
   "outputs": [
    {
     "ename": "SyntaxError",
     "evalue": "invalid syntax. Perhaps you forgot a comma? (2569270764.py, line 5)",
     "output_type": "error",
     "traceback": [
      "\u001b[1;36m  Cell \u001b[1;32mIn [46], line 5\u001b[1;36m\u001b[0m\n\u001b[1;33m    'avgAmount':{\"$avg\":{'multiply':['$price','$quantity']}}\u001b[0m\n\u001b[1;37m                ^\u001b[0m\n\u001b[1;31mSyntaxError\u001b[0m\u001b[1;31m:\u001b[0m invalid syntax. Perhaps you forgot a comma?\n"
     ]
    }
   ],
   "source": [
    "agg_result=mycollection.aggregate([\n",
    "    {\n",
    "        \"$group\":{\n",
    "            \"id\":\"$item\",\n",
    "            'avgAmount':{\"$avg\":{'multiply':['$price','$quantity']}}\n",
    "                'avgQuantity':{'$avg':'$quantity'}\n",
    "                }\n",
    "            }\n",
    "])"
   ]
  },
  {
   "cell_type": "code",
   "execution_count": 47,
   "metadata": {},
   "outputs": [
    {
     "name": "stdout",
     "output_type": "stream",
     "text": [
      "{'_id': None, 'avgAmount': None, 'avgQuantity': None}\n"
     ]
    }
   ],
   "source": [
    "agg_result=collection.aggregate([{\n",
    "    \"$group\":{\n",
    "        \"_id\":\"$item\",\n",
    "        \"avgAmount\":{\"$avg\":{\"$multiply\":[\"$price\",\"$quantity\"]}},\n",
    "        \"avgQuantity\":{\"$avg\":\"$quantity\"}\n",
    "    }}\n",
    "])\n",
    "for i in agg_result:\n",
    "    print(i)"
   ]
  },
  {
   "cell_type": "code",
   "execution_count": 48,
   "metadata": {},
   "outputs": [],
   "source": [
    "###Project\n",
    "\n",
    "data=[{\n",
    "    '_id':3,\n",
    "    'title':'abc123',\n",
    "    'isbn':'0001122223334',\n",
    "    'author':{'last':'zzz1','first':'aaa1'},\n",
    "    'copies':5\n",
    "},\n",
    "{\n",
    "    '_id':4,\n",
    "    'title':'baked Goods',\n",
    "    'isbn':'1234567890123',\n",
    "    'author':{'last':'xyz1','first':'abc1','middle':''},\n",
    "    'copies':2\n",
    "}]"
   ]
  },
  {
   "cell_type": "code",
   "execution_count": 50,
   "metadata": {},
   "outputs": [
    {
     "name": "stdout",
     "output_type": "stream",
     "text": [
      "{'_id': ObjectId('63888624ddded4b8d869f16f')}\n",
      "{'_id': ObjectId('63888624ddded4b8d869f170')}\n",
      "{'_id': ObjectId('63888624ddded4b8d869f171')}\n",
      "{'_id': ObjectId('63888624ddded4b8d869f172')}\n",
      "{'_id': ObjectId('63888624ddded4b8d869f173')}\n",
      "{'_id': ObjectId('63888624ddded4b8d869f174')}\n",
      "{'_id': ObjectId('638886e5ddded4b8d869f182')}\n",
      "{'_id': ObjectId('638886e5ddded4b8d869f183')}\n",
      "{'_id': ObjectId('638886e5ddded4b8d869f184')}\n",
      "{'_id': ObjectId('638886e5ddded4b8d869f185')}\n",
      "{'_id': ObjectId('638886e5ddded4b8d869f186')}\n",
      "{'_id': ObjectId('638886e5ddded4b8d869f187')}\n"
     ]
    }
   ],
   "source": [
    "for row in collection.aggregate([{\"$project\":{\"title\":1,'isbn':1}}]):\n",
    "    print(row)"
   ]
  }
 ],
 "metadata": {
  "kernelspec": {
   "display_name": "Python 3.11.0 64-bit",
   "language": "python",
   "name": "python3"
  },
  "language_info": {
   "codemirror_mode": {
    "name": "ipython",
    "version": 3
   },
   "file_extension": ".py",
   "mimetype": "text/x-python",
   "name": "python",
   "nbconvert_exporter": "python",
   "pygments_lexer": "ipython3",
   "version": "3.11.0"
  },
  "orig_nbformat": 4,
  "vscode": {
   "interpreter": {
    "hash": "a5f954a518b072afc267ebd6eb29b2da47959f1e543e90f8fa4fe0e403b8accf"
   }
  }
 },
 "nbformat": 4,
 "nbformat_minor": 2
}
