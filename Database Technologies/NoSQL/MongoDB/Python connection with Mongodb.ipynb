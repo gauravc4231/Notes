{
 "cells": [
  {
   "cell_type": "code",
   "execution_count": 9,
   "metadata": {},
   "outputs": [
    {
     "name": "stdout",
     "output_type": "stream",
     "text": [
      "Requirement already satisfied: pymongo in c:\\users\\gaurav\\appdata\\local\\programs\\python\\python311\\lib\\site-packages (4.3.3)Note: you may need to restart the kernel to use updated packages.\n"
     ]
    },
    {
     "name": "stderr",
     "output_type": "stream",
     "text": [
      "\n",
      "[notice] A new release of pip available: 22.3 -> 22.3.1\n",
      "[notice] To update, run: python.exe -m pip install --upgrade pip\n"
     ]
    },
    {
     "name": "stdout",
     "output_type": "stream",
     "text": [
      "\n",
      "Requirement already satisfied: dnspython<3.0.0,>=1.16.0 in c:\\users\\gaurav\\appdata\\local\\programs\\python\\python311\\lib\\site-packages (from pymongo) (2.2.1)\n"
     ]
    }
   ],
   "source": [
    "pip install pymongo"
   ]
  },
  {
   "cell_type": "code",
   "execution_count": 10,
   "metadata": {},
   "outputs": [
    {
     "name": "stdout",
     "output_type": "stream",
     "text": [
      "{'name': 'Shubham', 'age': 12, '_id': ObjectId('6388784215efefa87ef69307')}\n"
     ]
    }
   ],
   "source": [
    "import pymongo as pm\n",
    "\n",
    "client=pm.MongoClient(\"mongodb://localhost:27017\") #Connecting to Mongo Server\n",
    "\n",
    "db=client[\"Digu1\"]  #creating connecting with the database #Digu is database in mongo db\n",
    "\n",
    "#print(client.list_database_names())\n",
    "\n",
    "information = db.stdinformation  # creating collection names as information\n",
    "record = {\"name\":\"Shubham\",\"age\":12}\n",
    "information.insert_one(record)\n",
    "print(record)"
   ]
  },
  {
   "cell_type": "code",
   "execution_count": 11,
   "metadata": {},
   "outputs": [
    {
     "data": {
      "text/plain": [
       "<pymongo.results.InsertManyResult at 0x1f7d8ea0070>"
      ]
     },
     "execution_count": 11,
     "metadata": {},
     "output_type": "execute_result"
    }
   ],
   "source": [
    "record=[{\n",
    "    'first name':'Gaurav',\n",
    "    'last name':'Chindarkar'\n",
    "},\n",
    "{\n",
    "    'first name':'Digambar',\n",
    "    'last name':'patil'\n",
    "},\n",
    "{\n",
    "    'first name':'Ajinkya',\n",
    "    'last name':'Pol'\n",
    "}]\n",
    "information.insert_many(record)"
   ]
  },
  {
   "cell_type": "code",
   "execution_count": null,
   "metadata": {},
   "outputs": [
    {
     "name": "stdout",
     "output_type": "stream",
     "text": [
      "[{'first name': 'Gaurav', 'last name': 'Chindarkar', '_id': ObjectId('63884fcad083a76135b1e73a')}, {'first name': 'Digambar', 'last name': 'patil', '_id': ObjectId('63884fcad083a76135b1e73b')}, {'first name': 'Ajinkya', 'last name': 'Pol', '_id': ObjectId('63884fcad083a76135b1e73c')}]\n"
     ]
    }
   ],
   "source": [
    "print(record)"
   ]
  },
  {
   "cell_type": "code",
   "execution_count": null,
   "metadata": {},
   "outputs": [
    {
     "data": {
      "text/plain": [
       "{'_id': ObjectId('63884edad083a76135b1e734'), 'name': 'Shubham', 'age': 12}"
      ]
     },
     "execution_count": 25,
     "metadata": {},
     "output_type": "execute_result"
    }
   ],
   "source": [
    "information.find_one()"
   ]
  },
  {
   "cell_type": "code",
   "execution_count": null,
   "metadata": {},
   "outputs": [
    {
     "name": "stdout",
     "output_type": "stream",
     "text": [
      "{'_id': ObjectId('63884edad083a76135b1e734'), 'name': 'Shubham', 'age': 12}\n",
      "{'_id': ObjectId('63884f05d083a76135b1e736'), 'name': 'Shubham', 'age': 12}\n",
      "{'_id': ObjectId('63884fa7d083a76135b1e737'), 'first name': 'Gaurav', 'last name': 'Chindarkar'}\n",
      "{'_id': ObjectId('63884fa7d083a76135b1e738'), 'first name': 'Digambar', 'last name': 'patil'}\n",
      "{'_id': ObjectId('63884fa7d083a76135b1e739'), 'first name': 'Ajinkya', 'last name': 'Pol'}\n",
      "{'_id': ObjectId('63884fcad083a76135b1e73a'), 'first name': 'Gaurav', 'last name': 'Chindarkar'}\n",
      "{'_id': ObjectId('63884fcad083a76135b1e73b'), 'first name': 'Digambar', 'last name': 'patil'}\n",
      "{'_id': ObjectId('63884fcad083a76135b1e73c'), 'first name': 'Ajinkya', 'last name': 'Pol'}\n"
     ]
    }
   ],
   "source": [
    "for record in information.find():\n",
    "    print(record)"
   ]
  },
  {
   "cell_type": "code",
   "execution_count": null,
   "metadata": {},
   "outputs": [
    {
     "data": {
      "text/plain": [
       "<pymongo.results.InsertManyResult at 0x1ebf52659f0>"
      ]
     },
     "execution_count": 29,
     "metadata": {},
     "output_type": "execute_result"
    }
   ],
   "source": [
    "record = [{\"name\":\"jinks\",\"age\":25},{\"name\":'j','age':42},{'name':'G','age':13},{'name':'A','age':29},{'name':'B','age':34}]\n",
    "information.insert_many(record)"
   ]
  },
  {
   "cell_type": "code",
   "execution_count": null,
   "metadata": {},
   "outputs": [
    {
     "name": "stdout",
     "output_type": "stream",
     "text": [
      "{'_id': ObjectId('63884edad083a76135b1e734'), 'name': 'Shubham', 'age': 12}\n",
      "{'_id': ObjectId('63884f05d083a76135b1e736'), 'name': 'Shubham', 'age': 12}\n",
      "{'_id': ObjectId('63884fa7d083a76135b1e737'), 'first name': 'Gaurav', 'last name': 'Chindarkar'}\n",
      "{'_id': ObjectId('63884fa7d083a76135b1e738'), 'first name': 'Digambar', 'last name': 'patil'}\n",
      "{'_id': ObjectId('63884fa7d083a76135b1e739'), 'first name': 'Ajinkya', 'last name': 'Pol'}\n",
      "{'_id': ObjectId('63884fcad083a76135b1e73a'), 'first name': 'Gaurav', 'last name': 'Chindarkar'}\n",
      "{'_id': ObjectId('63884fcad083a76135b1e73b'), 'first name': 'Digambar', 'last name': 'patil'}\n",
      "{'_id': ObjectId('63884fcad083a76135b1e73c'), 'first name': 'Ajinkya', 'last name': 'Pol'}\n",
      "{'_id': ObjectId('6388521ad083a76135b1e73d'), 'name': 'jinks', 'age': 27}\n",
      "{'_id': ObjectId('6388521ad083a76135b1e73e'), 'name': 'j', 'age': 24}\n",
      "{'_id': ObjectId('6388521ad083a76135b1e73f'), 'name': 'G', 'age': 23}\n",
      "{'_id': ObjectId('6388521ad083a76135b1e740'), 'name': 'A', 'age': 23}\n",
      "{'_id': ObjectId('6388521ad083a76135b1e741'), 'name': 'B', 'age': 23}\n",
      "{'_id': ObjectId('63885244d083a76135b1e742'), 'name': 'jinks', 'age': 25}\n",
      "{'_id': ObjectId('63885244d083a76135b1e743'), 'name': 'j', 'age': 42}\n",
      "{'_id': ObjectId('63885244d083a76135b1e744'), 'name': 'G', 'age': 13}\n",
      "{'_id': ObjectId('63885244d083a76135b1e745'), 'name': 'A', 'age': 29}\n",
      "{'_id': ObjectId('63885244d083a76135b1e746'), 'name': 'B', 'age': 34}\n"
     ]
    }
   ],
   "source": [
    "for record in information.find():\n",
    "    print(record)"
   ]
  },
  {
   "cell_type": "code",
   "execution_count": null,
   "metadata": {},
   "outputs": [
    {
     "data": {
      "text/plain": [
       "<pymongo.results.InsertManyResult at 0x1ebf51e7b50>"
      ]
     },
     "execution_count": 32,
     "metadata": {},
     "output_type": "execute_result"
    }
   ],
   "source": [
    "record=[{\n",
    "    'first name':'G',\n",
    "    'last name':'C',\n",
    "    'dept':'A',\n",
    "    'quali':'BE',\n",
    "    'age':24\n",
    "},\n",
    "{\n",
    "    'first name':'A',\n",
    "    'last name':'B',\n",
    "    'dept':'B',\n",
    "    'quali':'BTech',\n",
    "    'age':26\n",
    "},\n",
    "{\n",
    "    'first name':'A',\n",
    "    'last name':'P',\n",
    "    'dept':'M',\n",
    "    'quali':'BDS',\n",
    "    'age':24\n",
    "},{\n",
    "    'first name':'D',\n",
    "    'last name':'P',\n",
    "    'dept':'A',\n",
    "    'quali':'10th',\n",
    "    'age':27\n",
    "}]\n",
    "\n",
    "information.insert_many(record)"
   ]
  },
  {
   "cell_type": "code",
   "execution_count": null,
   "metadata": {},
   "outputs": [
    {
     "name": "stdout",
     "output_type": "stream",
     "text": [
      "{'_id': ObjectId('63884edad083a76135b1e734'), 'name': 'Shubham', 'age': 12}\n",
      "{'_id': ObjectId('63884f05d083a76135b1e736'), 'name': 'Shubham', 'age': 12}\n",
      "{'_id': ObjectId('63884fa7d083a76135b1e737'), 'first name': 'Gaurav', 'last name': 'Chindarkar'}\n",
      "{'_id': ObjectId('63884fa7d083a76135b1e738'), 'first name': 'Digambar', 'last name': 'patil'}\n",
      "{'_id': ObjectId('63884fa7d083a76135b1e739'), 'first name': 'Ajinkya', 'last name': 'Pol'}\n",
      "{'_id': ObjectId('63884fcad083a76135b1e73a'), 'first name': 'Gaurav', 'last name': 'Chindarkar'}\n",
      "{'_id': ObjectId('63884fcad083a76135b1e73b'), 'first name': 'Digambar', 'last name': 'patil'}\n",
      "{'_id': ObjectId('63884fcad083a76135b1e73c'), 'first name': 'Ajinkya', 'last name': 'Pol'}\n",
      "{'_id': ObjectId('6388521ad083a76135b1e73d'), 'name': 'jinks', 'age': 27}\n",
      "{'_id': ObjectId('6388521ad083a76135b1e73e'), 'name': 'j', 'age': 24}\n",
      "{'_id': ObjectId('6388521ad083a76135b1e73f'), 'name': 'G', 'age': 23}\n",
      "{'_id': ObjectId('6388521ad083a76135b1e740'), 'name': 'A', 'age': 23}\n",
      "{'_id': ObjectId('6388521ad083a76135b1e741'), 'name': 'B', 'age': 23}\n",
      "{'_id': ObjectId('63885244d083a76135b1e742'), 'name': 'jinks', 'age': 25}\n",
      "{'_id': ObjectId('63885244d083a76135b1e743'), 'name': 'j', 'age': 42}\n",
      "{'_id': ObjectId('63885244d083a76135b1e744'), 'name': 'G', 'age': 13}\n",
      "{'_id': ObjectId('63885244d083a76135b1e745'), 'name': 'A', 'age': 29}\n",
      "{'_id': ObjectId('63885244d083a76135b1e746'), 'name': 'B', 'age': 34}\n",
      "{'_id': ObjectId('638853d1d083a76135b1e747'), 'first name': 'G', 'last name': 'C', 'dept': 'A', 'quali': 'BE', 'age': 24}\n",
      "{'_id': ObjectId('638853d1d083a76135b1e748'), 'first name': 'A', 'last name': 'B', 'dept': 'B', 'quali': 'BTech', 'age': 26}\n",
      "{'_id': ObjectId('638853d1d083a76135b1e749'), 'first name': 'A', 'last name': 'P', 'dept': 'M', 'quali': 'BDS', 'age': 24}\n",
      "{'_id': ObjectId('638853d1d083a76135b1e74a'), 'first name': 'D', 'last name': 'P', 'dept': 'A', 'quali': '10th', 'age': 27}\n"
     ]
    }
   ],
   "source": [
    "for record in information.find():\n",
    "    print(record)"
   ]
  },
  {
   "cell_type": "code",
   "execution_count": 8,
   "metadata": {},
   "outputs": [
    {
     "ename": "NameError",
     "evalue": "name 'information' is not defined",
     "output_type": "error",
     "traceback": [
      "\u001b[1;31m---------------------------------------------------------------------------\u001b[0m",
      "\u001b[1;31mNameError\u001b[0m                                 Traceback (most recent call last)",
      "Cell \u001b[1;32mIn [8], line 1\u001b[0m\n\u001b[1;32m----> 1\u001b[0m information\u001b[39m.\u001b[39mfind_one()\n",
      "\u001b[1;31mNameError\u001b[0m: name 'information' is not defined"
     ]
    }
   ],
   "source": [
    "information.find_one()"
   ]
  },
  {
   "cell_type": "code",
   "execution_count": null,
   "metadata": {},
   "outputs": [
    {
     "name": "stdout",
     "output_type": "stream",
     "text": [
      "{'_id': ObjectId('63884edad083a76135b1e734'), 'name': 'Shubham', 'age': 12}\n",
      "{'_id': ObjectId('63884f05d083a76135b1e736'), 'name': 'Shubham', 'age': 12}\n",
      "{'_id': ObjectId('63884fa7d083a76135b1e737'), 'first name': 'Gaurav', 'last name': 'Chindarkar'}\n",
      "{'_id': ObjectId('63884fa7d083a76135b1e738'), 'first name': 'Digambar', 'last name': 'patil'}\n",
      "{'_id': ObjectId('63884fa7d083a76135b1e739'), 'first name': 'Ajinkya', 'last name': 'Pol'}\n",
      "{'_id': ObjectId('63884fcad083a76135b1e73a'), 'first name': 'Gaurav', 'last name': 'Chindarkar'}\n",
      "{'_id': ObjectId('63884fcad083a76135b1e73b'), 'first name': 'Digambar', 'last name': 'patil'}\n",
      "{'_id': ObjectId('63884fcad083a76135b1e73c'), 'first name': 'Ajinkya', 'last name': 'Pol'}\n",
      "{'_id': ObjectId('6388521ad083a76135b1e73d'), 'name': 'jinks', 'age': 27}\n",
      "{'_id': ObjectId('6388521ad083a76135b1e73e'), 'name': 'j', 'age': 24}\n",
      "{'_id': ObjectId('6388521ad083a76135b1e73f'), 'name': 'G', 'age': 23}\n",
      "{'_id': ObjectId('6388521ad083a76135b1e740'), 'name': 'A', 'age': 23}\n",
      "{'_id': ObjectId('6388521ad083a76135b1e741'), 'name': 'B', 'age': 23}\n",
      "{'_id': ObjectId('63885244d083a76135b1e742'), 'name': 'jinks', 'age': 25}\n",
      "{'_id': ObjectId('63885244d083a76135b1e743'), 'name': 'j', 'age': 42}\n",
      "{'_id': ObjectId('63885244d083a76135b1e744'), 'name': 'G', 'age': 13}\n",
      "{'_id': ObjectId('63885244d083a76135b1e745'), 'name': 'A', 'age': 29}\n",
      "{'_id': ObjectId('63885244d083a76135b1e746'), 'name': 'B', 'age': 34}\n",
      "{'_id': ObjectId('638853d1d083a76135b1e747'), 'first name': 'G', 'last name': 'C', 'dept': 'A', 'quali': 'BE', 'age': 24}\n",
      "{'_id': ObjectId('638853d1d083a76135b1e748'), 'first name': 'A', 'last name': 'B', 'dept': 'B', 'quali': 'BTech', 'age': 26}\n",
      "{'_id': ObjectId('638853d1d083a76135b1e749'), 'first name': 'A', 'last name': 'P', 'dept': 'M', 'quali': 'BDS', 'age': 24}\n",
      "{'_id': ObjectId('638853d1d083a76135b1e74a'), 'first name': 'D', 'last name': 'P', 'dept': 'A', 'quali': '10th', 'age': 27}\n"
     ]
    }
   ],
   "source": [
    "for record in information.find():\n",
    "    print(record)"
   ]
  },
  {
   "cell_type": "code",
   "execution_count": null,
   "metadata": {},
   "outputs": [
    {
     "name": "stdout",
     "output_type": "stream",
     "text": [
      "{'_id': ObjectId('638853d1d083a76135b1e747'), 'first name': 'G', 'last name': 'C', 'dept': 'A', 'quali': 'BE', 'age': 24}\n",
      "{'_id': ObjectId('638853d1d083a76135b1e74a'), 'first name': 'D', 'last name': 'P', 'dept': 'A', 'quali': '10th', 'age': 27}\n"
     ]
    }
   ],
   "source": [
    "for record in information.find({'dept':'A'}):\n",
    "    print(record)"
   ]
  },
  {
   "cell_type": "code",
   "execution_count": null,
   "metadata": {},
   "outputs": [
    {
     "name": "stdout",
     "output_type": "stream",
     "text": [
      "{'_id': ObjectId('638853d1d083a76135b1e747'), 'first name': 'G', 'last name': 'C', 'dept': 'A', 'quali': 'BE', 'age': 24}\n"
     ]
    }
   ],
   "source": [
    "for record in information.find({'quali':'BE'}):\n",
    "    print(record)"
   ]
  },
  {
   "cell_type": "code",
   "execution_count": null,
   "metadata": {},
   "outputs": [
    {
     "name": "stdout",
     "output_type": "stream",
     "text": [
      "{'_id': ObjectId('638853d1d083a76135b1e747'), 'first name': 'G', 'last name': 'C', 'dept': 'A', 'quali': 'BE', 'age': 24}\n",
      "{'_id': ObjectId('638853d1d083a76135b1e749'), 'first name': 'A', 'last name': 'P', 'dept': 'M', 'quali': 'BDS', 'age': 24}\n"
     ]
    }
   ],
   "source": [
    "for record in information.find({'quali':{'$in':['BE','BDS']}}):\n",
    "    print(record)"
   ]
  },
  {
   "cell_type": "code",
   "execution_count": null,
   "metadata": {},
   "outputs": [
    {
     "name": "stdout",
     "output_type": "stream",
     "text": [
      "{'_id': ObjectId('63884edad083a76135b1e734'), 'name': 'Shubham', 'age': 12}\n",
      "{'_id': ObjectId('63884f05d083a76135b1e736'), 'name': 'Shubham', 'age': 12}\n",
      "{'_id': ObjectId('63884fa7d083a76135b1e737'), 'first name': 'Gaurav', 'last name': 'Chindarkar'}\n",
      "{'_id': ObjectId('63884fa7d083a76135b1e738'), 'first name': 'Digambar', 'last name': 'patil'}\n",
      "{'_id': ObjectId('63884fa7d083a76135b1e739'), 'first name': 'Ajinkya', 'last name': 'Pol'}\n",
      "{'_id': ObjectId('63884fcad083a76135b1e73a'), 'first name': 'Gaurav', 'last name': 'Chindarkar'}\n",
      "{'_id': ObjectId('63884fcad083a76135b1e73b'), 'first name': 'Digambar', 'last name': 'patil'}\n",
      "{'_id': ObjectId('63884fcad083a76135b1e73c'), 'first name': 'Ajinkya', 'last name': 'Pol'}\n",
      "{'_id': ObjectId('6388521ad083a76135b1e73d'), 'name': 'jinks', 'age': 27}\n",
      "{'_id': ObjectId('6388521ad083a76135b1e73e'), 'name': 'j', 'age': 24}\n",
      "{'_id': ObjectId('6388521ad083a76135b1e73f'), 'name': 'G', 'age': 23}\n",
      "{'_id': ObjectId('6388521ad083a76135b1e740'), 'name': 'A', 'age': 23}\n",
      "{'_id': ObjectId('6388521ad083a76135b1e741'), 'name': 'B', 'age': 23}\n",
      "{'_id': ObjectId('63885244d083a76135b1e742'), 'name': 'jinks', 'age': 25}\n",
      "{'_id': ObjectId('63885244d083a76135b1e743'), 'name': 'j', 'age': 42}\n",
      "{'_id': ObjectId('63885244d083a76135b1e744'), 'name': 'G', 'age': 13}\n",
      "{'_id': ObjectId('63885244d083a76135b1e745'), 'name': 'A', 'age': 29}\n",
      "{'_id': ObjectId('63885244d083a76135b1e746'), 'name': 'B', 'age': 34}\n",
      "{'_id': ObjectId('638853d1d083a76135b1e748'), 'first name': 'A', 'last name': 'B', 'dept': 'B', 'quali': 'BTech', 'age': 26}\n",
      "{'_id': ObjectId('638853d1d083a76135b1e74a'), 'first name': 'D', 'last name': 'P', 'dept': 'A', 'quali': '10th', 'age': 27}\n"
     ]
    }
   ],
   "source": [
    "for record in information.find({'quali':{'$nin':['BE','BDS']}}):\n",
    "    print(record)"
   ]
  },
  {
   "cell_type": "code",
   "execution_count": null,
   "metadata": {},
   "outputs": [
    {
     "name": "stdout",
     "output_type": "stream",
     "text": [
      "{'_id': ObjectId('63884fcad083a76135b1e73a'), 'first name': 'Gaurav', 'last name': 'Chindarkar'}\n",
      "{'_id': ObjectId('63884fcad083a76135b1e73b'), 'first name': 'Digambar', 'last name': 'patil'}\n",
      "{'_id': ObjectId('63884fcad083a76135b1e73c'), 'first name': 'Ajinkya', 'last name': 'Pol'}\n",
      "{'_id': ObjectId('6388521ad083a76135b1e73d'), 'name': 'jinks', 'age': 27}\n",
      "{'_id': ObjectId('6388521ad083a76135b1e73e'), 'name': 'j', 'age': 24}\n",
      "{'_id': ObjectId('6388521ad083a76135b1e73f'), 'name': 'G', 'age': 23}\n",
      "{'_id': ObjectId('6388521ad083a76135b1e740'), 'name': 'A', 'age': 23}\n",
      "{'_id': ObjectId('6388521ad083a76135b1e741'), 'name': 'B', 'age': 23}\n",
      "{'_id': ObjectId('63885244d083a76135b1e742'), 'name': 'jinks', 'age': 25}\n",
      "{'_id': ObjectId('63885244d083a76135b1e743'), 'name': 'j', 'age': 42}\n"
     ]
    }
   ],
   "source": [
    "for record in information.find().limit(10).skip(5):\n",
    "    print(record)"
   ]
  },
  {
   "cell_type": "code",
   "execution_count": null,
   "metadata": {},
   "outputs": [
    {
     "ename": "TypeError",
     "evalue": "if no direction is specified, key_or_list must be an instance of list",
     "output_type": "error",
     "traceback": [
      "\u001b[1;31m---------------------------------------------------------------------------\u001b[0m",
      "\u001b[1;31mTypeError\u001b[0m                                 Traceback (most recent call last)",
      "Cell \u001b[1;32mIn [47], line 1\u001b[0m\n\u001b[1;32m----> 1\u001b[0m \u001b[39mfor\u001b[39;00m record \u001b[39min\u001b[39;00m information\u001b[39m.\u001b[39;49mfind()\u001b[39m.\u001b[39;49msort({\u001b[39m'\u001b[39;49m\u001b[39mage\u001b[39;49m\u001b[39m'\u001b[39;49m:\u001b[39m1\u001b[39;49m}):\n\u001b[0;32m      2\u001b[0m     \u001b[39mprint\u001b[39m(record)\n",
      "File \u001b[1;32mc:\\Users\\Gaurav\\AppData\\Local\\Programs\\Python\\Python311\\Lib\\site-packages\\pymongo\\cursor.py:873\u001b[0m, in \u001b[0;36mCursor.sort\u001b[1;34m(self, key_or_list, direction)\u001b[0m\n\u001b[0;32m    832\u001b[0m \u001b[39m\"\"\"Sorts this cursor's results.\u001b[39;00m\n\u001b[0;32m    833\u001b[0m \n\u001b[0;32m    834\u001b[0m \u001b[39mPass a field name and a direction, either\u001b[39;00m\n\u001b[1;32m   (...)\u001b[0m\n\u001b[0;32m    870\u001b[0m \u001b[39m    key, if not given :data:`~pymongo.ASCENDING` is assumed\u001b[39;00m\n\u001b[0;32m    871\u001b[0m \u001b[39m\"\"\"\u001b[39;00m\n\u001b[0;32m    872\u001b[0m \u001b[39mself\u001b[39m\u001b[39m.\u001b[39m__check_okay_to_chain()\n\u001b[1;32m--> 873\u001b[0m keys \u001b[39m=\u001b[39m helpers\u001b[39m.\u001b[39;49m_index_list(key_or_list, direction)\n\u001b[0;32m    874\u001b[0m \u001b[39mself\u001b[39m\u001b[39m.\u001b[39m__ordering \u001b[39m=\u001b[39m helpers\u001b[39m.\u001b[39m_index_document(keys)\n\u001b[0;32m    875\u001b[0m \u001b[39mreturn\u001b[39;00m \u001b[39mself\u001b[39m\n",
      "File \u001b[1;32mc:\\Users\\Gaurav\\AppData\\Local\\Programs\\Python\\Python311\\Lib\\site-packages\\pymongo\\helpers.py:90\u001b[0m, in \u001b[0;36m_index_list\u001b[1;34m(key_or_list, direction)\u001b[0m\n\u001b[0;32m     88\u001b[0m     \u001b[39mreturn\u001b[39;00m \u001b[39mlist\u001b[39m(key_or_list)\n\u001b[0;32m     89\u001b[0m \u001b[39melif\u001b[39;00m \u001b[39mnot\u001b[39;00m \u001b[39misinstance\u001b[39m(key_or_list, (\u001b[39mlist\u001b[39m, \u001b[39mtuple\u001b[39m)):\n\u001b[1;32m---> 90\u001b[0m     \u001b[39mraise\u001b[39;00m \u001b[39mTypeError\u001b[39;00m(\u001b[39m\"\u001b[39m\u001b[39mif no direction is specified, key_or_list must be an instance of list\u001b[39m\u001b[39m\"\u001b[39m)\n\u001b[0;32m     91\u001b[0m \u001b[39mreturn\u001b[39;00m key_or_list\n",
      "\u001b[1;31mTypeError\u001b[0m: if no direction is specified, key_or_list must be an instance of list"
     ]
    }
   ],
   "source": [
    "for record in information.find().sort({'age':1}):\n",
    "    print(record)"
   ]
  },
  {
   "cell_type": "code",
   "execution_count": null,
   "metadata": {},
   "outputs": [
    {
     "name": "stdout",
     "output_type": "stream",
     "text": [
      "{'_id': ObjectId('638853d1d083a76135b1e749'), 'first name': 'A', 'last name': 'P', 'dept': 'M', 'quali': 'BDS', 'age': 24}\n"
     ]
    }
   ],
   "source": [
    "for record in information.find({'quali':'BDS'}):\n",
    "    print(record)"
   ]
  },
  {
   "cell_type": "code",
   "execution_count": null,
   "metadata": {},
   "outputs": [
    {
     "ename": "OperationFailure",
     "evalue": "unknown operator: $geq, full error: {'ok': 0.0, 'errmsg': 'unknown operator: $geq', 'code': 2, 'codeName': 'BadValue'}",
     "output_type": "error",
     "traceback": [
      "\u001b[1;31m---------------------------------------------------------------------------\u001b[0m",
      "\u001b[1;31mOperationFailure\u001b[0m                          Traceback (most recent call last)",
      "Cell \u001b[1;32mIn [49], line 1\u001b[0m\n\u001b[1;32m----> 1\u001b[0m \u001b[39mfor\u001b[39;00m record \u001b[39min\u001b[39;00m information\u001b[39m.\u001b[39mfind({\u001b[39m'\u001b[39m\u001b[39mage\u001b[39m\u001b[39m'\u001b[39m:{\u001b[39m'\u001b[39m\u001b[39m$geq\u001b[39m\u001b[39m'\u001b[39m:\u001b[39m24\u001b[39m}}):\n\u001b[0;32m      2\u001b[0m     \u001b[39mprint\u001b[39m(record)\n",
      "File \u001b[1;32mc:\\Users\\Gaurav\\AppData\\Local\\Programs\\Python\\Python311\\Lib\\site-packages\\pymongo\\cursor.py:1248\u001b[0m, in \u001b[0;36mCursor.next\u001b[1;34m(self)\u001b[0m\n\u001b[0;32m   1246\u001b[0m \u001b[39mif\u001b[39;00m \u001b[39mself\u001b[39m\u001b[39m.\u001b[39m__empty:\n\u001b[0;32m   1247\u001b[0m     \u001b[39mraise\u001b[39;00m \u001b[39mStopIteration\u001b[39;00m\n\u001b[1;32m-> 1248\u001b[0m \u001b[39mif\u001b[39;00m \u001b[39mlen\u001b[39m(\u001b[39mself\u001b[39m\u001b[39m.\u001b[39m__data) \u001b[39mor\u001b[39;00m \u001b[39mself\u001b[39;49m\u001b[39m.\u001b[39;49m_refresh():\n\u001b[0;32m   1249\u001b[0m     \u001b[39mreturn\u001b[39;00m \u001b[39mself\u001b[39m\u001b[39m.\u001b[39m__data\u001b[39m.\u001b[39mpopleft()\n\u001b[0;32m   1250\u001b[0m \u001b[39melse\u001b[39;00m:\n",
      "File \u001b[1;32mc:\\Users\\Gaurav\\AppData\\Local\\Programs\\Python\\Python311\\Lib\\site-packages\\pymongo\\cursor.py:1165\u001b[0m, in \u001b[0;36mCursor._refresh\u001b[1;34m(self)\u001b[0m\n\u001b[0;32m   1143\u001b[0m         \u001b[39mraise\u001b[39;00m InvalidOperation(\n\u001b[0;32m   1144\u001b[0m             \u001b[39m\"\u001b[39m\u001b[39mPassing a \u001b[39m\u001b[39m'\u001b[39m\u001b[39mhint\u001b[39m\u001b[39m'\u001b[39m\u001b[39m is required when using the min/max query\u001b[39m\u001b[39m\"\u001b[39m\n\u001b[0;32m   1145\u001b[0m             \u001b[39m\"\u001b[39m\u001b[39m option to ensure the query utilizes the correct index\u001b[39m\u001b[39m\"\u001b[39m\n\u001b[0;32m   1146\u001b[0m         )\n\u001b[0;32m   1147\u001b[0m     q \u001b[39m=\u001b[39m \u001b[39mself\u001b[39m\u001b[39m.\u001b[39m_query_class(\n\u001b[0;32m   1148\u001b[0m         \u001b[39mself\u001b[39m\u001b[39m.\u001b[39m__query_flags,\n\u001b[0;32m   1149\u001b[0m         \u001b[39mself\u001b[39m\u001b[39m.\u001b[39m__collection\u001b[39m.\u001b[39mdatabase\u001b[39m.\u001b[39mname,\n\u001b[1;32m   (...)\u001b[0m\n\u001b[0;32m   1163\u001b[0m         \u001b[39mself\u001b[39m\u001b[39m.\u001b[39m__exhaust,\n\u001b[0;32m   1164\u001b[0m     )\n\u001b[1;32m-> 1165\u001b[0m     \u001b[39mself\u001b[39;49m\u001b[39m.\u001b[39;49m__send_message(q)\n\u001b[0;32m   1166\u001b[0m \u001b[39melif\u001b[39;00m \u001b[39mself\u001b[39m\u001b[39m.\u001b[39m__id:  \u001b[39m# Get More\u001b[39;00m\n\u001b[0;32m   1167\u001b[0m     \u001b[39mif\u001b[39;00m \u001b[39mself\u001b[39m\u001b[39m.\u001b[39m__limit:\n",
      "File \u001b[1;32mc:\\Users\\Gaurav\\AppData\\Local\\Programs\\Python\\Python311\\Lib\\site-packages\\pymongo\\cursor.py:1052\u001b[0m, in \u001b[0;36mCursor.__send_message\u001b[1;34m(self, operation)\u001b[0m\n\u001b[0;32m   1049\u001b[0m     \u001b[39mraise\u001b[39;00m InvalidOperation(\u001b[39m\"\u001b[39m\u001b[39mexhaust cursors do not support auto encryption\u001b[39m\u001b[39m\"\u001b[39m)\n\u001b[0;32m   1051\u001b[0m \u001b[39mtry\u001b[39;00m:\n\u001b[1;32m-> 1052\u001b[0m     response \u001b[39m=\u001b[39m client\u001b[39m.\u001b[39;49m_run_operation(\n\u001b[0;32m   1053\u001b[0m         operation, \u001b[39mself\u001b[39;49m\u001b[39m.\u001b[39;49m_unpack_response, address\u001b[39m=\u001b[39;49m\u001b[39mself\u001b[39;49m\u001b[39m.\u001b[39;49m__address\n\u001b[0;32m   1054\u001b[0m     )\n\u001b[0;32m   1055\u001b[0m \u001b[39mexcept\u001b[39;00m OperationFailure \u001b[39mas\u001b[39;00m exc:\n\u001b[0;32m   1056\u001b[0m     \u001b[39mif\u001b[39;00m exc\u001b[39m.\u001b[39mcode \u001b[39min\u001b[39;00m _CURSOR_CLOSED_ERRORS \u001b[39mor\u001b[39;00m \u001b[39mself\u001b[39m\u001b[39m.\u001b[39m__exhaust:\n\u001b[0;32m   1057\u001b[0m         \u001b[39m# Don't send killCursors because the cursor is already closed.\u001b[39;00m\n",
      "File \u001b[1;32mc:\\Users\\Gaurav\\AppData\\Local\\Programs\\Python\\Python311\\Lib\\site-packages\\pymongo\\_csot.py:105\u001b[0m, in \u001b[0;36mapply.<locals>.csot_wrapper\u001b[1;34m(self, *args, **kwargs)\u001b[0m\n\u001b[0;32m    103\u001b[0m         \u001b[39mwith\u001b[39;00m _TimeoutContext(timeout):\n\u001b[0;32m    104\u001b[0m             \u001b[39mreturn\u001b[39;00m func(\u001b[39mself\u001b[39m, \u001b[39m*\u001b[39margs, \u001b[39m*\u001b[39m\u001b[39m*\u001b[39mkwargs)\n\u001b[1;32m--> 105\u001b[0m \u001b[39mreturn\u001b[39;00m func(\u001b[39mself\u001b[39;49m, \u001b[39m*\u001b[39;49margs, \u001b[39m*\u001b[39;49m\u001b[39m*\u001b[39;49mkwargs)\n",
      "File \u001b[1;32mc:\\Users\\Gaurav\\AppData\\Local\\Programs\\Python\\Python311\\Lib\\site-packages\\pymongo\\mongo_client.py:1330\u001b[0m, in \u001b[0;36mMongoClient._run_operation\u001b[1;34m(self, operation, unpack_res, address)\u001b[0m\n\u001b[0;32m   1325\u001b[0m     operation\u001b[39m.\u001b[39mreset()  \u001b[39m# Reset op in case of retry.\u001b[39;00m\n\u001b[0;32m   1326\u001b[0m     \u001b[39mreturn\u001b[39;00m server\u001b[39m.\u001b[39mrun_operation(\n\u001b[0;32m   1327\u001b[0m         sock_info, operation, read_preference, \u001b[39mself\u001b[39m\u001b[39m.\u001b[39m_event_listeners, unpack_res\n\u001b[0;32m   1328\u001b[0m     )\n\u001b[1;32m-> 1330\u001b[0m \u001b[39mreturn\u001b[39;00m \u001b[39mself\u001b[39;49m\u001b[39m.\u001b[39;49m_retryable_read(\n\u001b[0;32m   1331\u001b[0m     _cmd,\n\u001b[0;32m   1332\u001b[0m     operation\u001b[39m.\u001b[39;49mread_preference,\n\u001b[0;32m   1333\u001b[0m     operation\u001b[39m.\u001b[39;49msession,\n\u001b[0;32m   1334\u001b[0m     address\u001b[39m=\u001b[39;49maddress,\n\u001b[0;32m   1335\u001b[0m     retryable\u001b[39m=\u001b[39;49m\u001b[39misinstance\u001b[39;49m(operation, message\u001b[39m.\u001b[39;49m_Query),\n\u001b[0;32m   1336\u001b[0m )\n",
      "File \u001b[1;32mc:\\Users\\Gaurav\\AppData\\Local\\Programs\\Python\\Python311\\Lib\\site-packages\\pymongo\\_csot.py:105\u001b[0m, in \u001b[0;36mapply.<locals>.csot_wrapper\u001b[1;34m(self, *args, **kwargs)\u001b[0m\n\u001b[0;32m    103\u001b[0m         \u001b[39mwith\u001b[39;00m _TimeoutContext(timeout):\n\u001b[0;32m    104\u001b[0m             \u001b[39mreturn\u001b[39;00m func(\u001b[39mself\u001b[39m, \u001b[39m*\u001b[39margs, \u001b[39m*\u001b[39m\u001b[39m*\u001b[39mkwargs)\n\u001b[1;32m--> 105\u001b[0m \u001b[39mreturn\u001b[39;00m func(\u001b[39mself\u001b[39;49m, \u001b[39m*\u001b[39;49margs, \u001b[39m*\u001b[39;49m\u001b[39m*\u001b[39;49mkwargs)\n",
      "File \u001b[1;32mc:\\Users\\Gaurav\\AppData\\Local\\Programs\\Python\\Python311\\Lib\\site-packages\\pymongo\\mongo_client.py:1448\u001b[0m, in \u001b[0;36mMongoClient._retryable_read\u001b[1;34m(self, func, read_pref, session, address, retryable)\u001b[0m\n\u001b[0;32m   1446\u001b[0m             \u001b[39massert\u001b[39;00m last_error \u001b[39mis\u001b[39;00m \u001b[39mnot\u001b[39;00m \u001b[39mNone\u001b[39;00m\n\u001b[0;32m   1447\u001b[0m             \u001b[39mraise\u001b[39;00m last_error\n\u001b[1;32m-> 1448\u001b[0m         \u001b[39mreturn\u001b[39;00m func(session, server, sock_info, read_pref)\n\u001b[0;32m   1449\u001b[0m \u001b[39mexcept\u001b[39;00m ServerSelectionTimeoutError:\n\u001b[0;32m   1450\u001b[0m     \u001b[39mif\u001b[39;00m retrying:\n\u001b[0;32m   1451\u001b[0m         \u001b[39m# The application may think the write was never attempted\u001b[39;00m\n\u001b[0;32m   1452\u001b[0m         \u001b[39m# if we raise ServerSelectionTimeoutError on the retry\u001b[39;00m\n\u001b[0;32m   1453\u001b[0m         \u001b[39m# attempt. Raise the original exception instead.\u001b[39;00m\n",
      "File \u001b[1;32mc:\\Users\\Gaurav\\AppData\\Local\\Programs\\Python\\Python311\\Lib\\site-packages\\pymongo\\mongo_client.py:1326\u001b[0m, in \u001b[0;36mMongoClient._run_operation.<locals>._cmd\u001b[1;34m(session, server, sock_info, read_preference)\u001b[0m\n\u001b[0;32m   1324\u001b[0m \u001b[39mdef\u001b[39;00m \u001b[39m_cmd\u001b[39m(session, server, sock_info, read_preference):\n\u001b[0;32m   1325\u001b[0m     operation\u001b[39m.\u001b[39mreset()  \u001b[39m# Reset op in case of retry.\u001b[39;00m\n\u001b[1;32m-> 1326\u001b[0m     \u001b[39mreturn\u001b[39;00m server\u001b[39m.\u001b[39;49mrun_operation(\n\u001b[0;32m   1327\u001b[0m         sock_info, operation, read_preference, \u001b[39mself\u001b[39;49m\u001b[39m.\u001b[39;49m_event_listeners, unpack_res\n\u001b[0;32m   1328\u001b[0m     )\n",
      "File \u001b[1;32mc:\\Users\\Gaurav\\AppData\\Local\\Programs\\Python\\Python311\\Lib\\site-packages\\pymongo\\server.py:134\u001b[0m, in \u001b[0;36mServer.run_operation\u001b[1;34m(self, sock_info, operation, read_preference, listeners, unpack_res)\u001b[0m\n\u001b[0;32m    132\u001b[0m         first \u001b[39m=\u001b[39m docs[\u001b[39m0\u001b[39m]\n\u001b[0;32m    133\u001b[0m         operation\u001b[39m.\u001b[39mclient\u001b[39m.\u001b[39m_process_response(first, operation\u001b[39m.\u001b[39msession)\n\u001b[1;32m--> 134\u001b[0m         _check_command_response(first, sock_info\u001b[39m.\u001b[39;49mmax_wire_version)\n\u001b[0;32m    135\u001b[0m \u001b[39mexcept\u001b[39;00m \u001b[39mException\u001b[39;00m \u001b[39mas\u001b[39;00m exc:\n\u001b[0;32m    136\u001b[0m     \u001b[39mif\u001b[39;00m publish:\n",
      "File \u001b[1;32mc:\\Users\\Gaurav\\AppData\\Local\\Programs\\Python\\Python311\\Lib\\site-packages\\pymongo\\helpers.py:181\u001b[0m, in \u001b[0;36m_check_command_response\u001b[1;34m(response, max_wire_version, allowable_errors, parse_write_concern_error)\u001b[0m\n\u001b[0;32m    178\u001b[0m \u001b[39melif\u001b[39;00m code \u001b[39m==\u001b[39m \u001b[39m43\u001b[39m:\n\u001b[0;32m    179\u001b[0m     \u001b[39mraise\u001b[39;00m CursorNotFound(errmsg, code, response, max_wire_version)\n\u001b[1;32m--> 181\u001b[0m \u001b[39mraise\u001b[39;00m OperationFailure(errmsg, code, response, max_wire_version)\n",
      "\u001b[1;31mOperationFailure\u001b[0m: unknown operator: $geq, full error: {'ok': 0.0, 'errmsg': 'unknown operator: $geq', 'code': 2, 'codeName': 'BadValue'}"
     ]
    }
   ],
   "source": [
    "for record in information.find({'age':{'$geq':24}}):\n",
    "    print(record)"
   ]
  },
  {
   "cell_type": "code",
   "execution_count": 12,
   "metadata": {},
   "outputs": [
    {
     "ename": "NameError",
     "evalue": "name 'mydb' is not defined",
     "output_type": "error",
     "traceback": [
      "\u001b[1;31m---------------------------------------------------------------------------\u001b[0m",
      "\u001b[1;31mNameError\u001b[0m                                 Traceback (most recent call last)",
      "Cell \u001b[1;32mIn [12], line 1\u001b[0m\n\u001b[1;32m----> 1\u001b[0m inventory\u001b[39m=\u001b[39mmydb\u001b[39m.\u001b[39minventory\n",
      "\u001b[1;31mNameError\u001b[0m: name 'mydb' is not defined"
     ]
    }
   ],
   "source": [
    "inventory=mydb.inventory"
   ]
  },
  {
   "cell_type": "code",
   "execution_count": null,
   "metadata": {},
   "outputs": [
    {
     "data": {
      "text/plain": [
       "<pymongo.results.InsertManyResult at 0x1ebf51d3f70>"
      ]
     },
     "execution_count": 62,
     "metadata": {},
     "output_type": "execute_result"
    }
   ],
   "source": [
    "inventory.insert_many([\n",
    "    {'item':'journal','qty':25,'size':{'h':14,'w':21,'uom':'cm'},'status':'A'},\n",
    "    {'item':'notebook','qty':50,'size':{'h':8.5,'w':11,'uom':'in'},'status':'A'},\n",
    "    {'item':'paper','qty':100,'size':{'h':8.5,'w':11,'uom':'in'},'status':'D'},\n",
    "    {'item':'planner','qty':75,'size':{'h':22.85,'w':30,'uom':'cm'},'status':'D'},\n",
    "    {'item':'postcard','qty':45,'size':{'h':10,'w':15.25,'uom':'cm'},'status':'A'}\n",
    "])\n"
   ]
  },
  {
   "cell_type": "code",
   "execution_count": null,
   "metadata": {},
   "outputs": [],
   "source": [
    "inventory = db.stdinformation"
   ]
  },
  {
   "cell_type": "code",
   "execution_count": null,
   "metadata": {},
   "outputs": [
    {
     "name": "stdout",
     "output_type": "stream",
     "text": [
      "{'_id': ObjectId('63885d16d083a76135b1e756'), 'qty': 50, 'size': {'w': 11}}\n",
      "{'_id': ObjectId('63885d16d083a76135b1e757'), 'qty': 100, 'size': {'w': 11}}\n",
      "{'_id': ObjectId('63885d4bd083a76135b1e75b'), 'qty': 50, 'size': {'w': 11}}\n",
      "{'_id': ObjectId('63885d4bd083a76135b1e75c'), 'qty': 100, 'size': {'w': 11}}\n",
      "{'_id': ObjectId('63885d5ed083a76135b1e760'), 'qty': 50, 'size': {'w': 11}}\n",
      "{'_id': ObjectId('63885d5ed083a76135b1e761'), 'qty': 100, 'size': {'w': 11}}\n",
      "{'_id': ObjectId('63885e28d083a76135b1e765'), 'qty': 50, 'size': {'w': 11}}\n",
      "{'_id': ObjectId('63885e28d083a76135b1e766'), 'qty': 100, 'size': {'w': 11}}\n"
     ]
    }
   ],
   "source": [
    "records= inventory.find({'size.h':8.5},{'qty':1,'size.w':1})\n",
    "\n",
    "for record in records:\n",
    "    print(record)"
   ]
  },
  {
   "cell_type": "code",
   "execution_count": null,
   "metadata": {},
   "outputs": [
    {
     "name": "stdout",
     "output_type": "stream",
     "text": [
      "{'_id': ObjectId('63885d16d083a76135b1e756'), 'item': 'notebook', 'qty': 50, 'size': {'h': 8.5, 'w': 11, 'uom': 'in'}, 'status': 'A'}\n",
      "{'_id': ObjectId('63885d4bd083a76135b1e75b'), 'item': 'notebook', 'qty': 50, 'size': {'h': 8.5, 'w': 11, 'uom': 'in'}, 'status': 'A'}\n",
      "{'_id': ObjectId('63885d5ed083a76135b1e760'), 'item': 'notebook', 'qty': 50, 'size': {'h': 8.5, 'w': 11, 'uom': 'in'}, 'status': 'A'}\n",
      "{'_id': ObjectId('63885e28d083a76135b1e765'), 'item': 'notebook', 'qty': 50, 'size': {'h': 8.5, 'w': 11, 'uom': 'in'}, 'status': 'A'}\n"
     ]
    }
   ],
   "source": [
    "records=inventory.find({\"$and\":[{\"qty\":50},{\"size.h\":8.5}]})\n",
    "for record in records:\n",
    "    print(record)"
   ]
  },
  {
   "cell_type": "code",
   "execution_count": 1,
   "metadata": {},
   "outputs": [
    {
     "name": "stdout",
     "output_type": "stream",
     "text": [
      "Hello\n"
     ]
    }
   ],
   "source": [
    "print(\"Hello\")"
   ]
  },
  {
   "cell_type": "code",
   "execution_count": 14,
   "metadata": {},
   "outputs": [
    {
     "ename": "TypeError",
     "evalue": "Collection.insert_many() got an unexpected keyword argument 'records'",
     "output_type": "error",
     "traceback": [
      "\u001b[1;31m---------------------------------------------------------------------------\u001b[0m",
      "\u001b[1;31mTypeError\u001b[0m                                 Traceback (most recent call last)",
      "Cell \u001b[1;32mIn [14], line 1\u001b[0m\n\u001b[1;32m----> 1\u001b[0m inventory\u001b[39m.\u001b[39;49minsert_many(records\u001b[39m=\u001b[39;49m([\n\u001b[0;32m      2\u001b[0m     {\u001b[39m\"\u001b[39;49m\u001b[39mitem\u001b[39;49m\u001b[39m\"\u001b[39;49m: \u001b[39m\"\u001b[39;49m\u001b[39mcanvas\u001b[39;49m\u001b[39m\"\u001b[39;49m,\n\u001b[0;32m      3\u001b[0m      \u001b[39m\"\u001b[39;49m\u001b[39mqty\u001b[39;49m\u001b[39m\"\u001b[39;49m: \u001b[39m100\u001b[39;49m,\n\u001b[0;32m      4\u001b[0m      \u001b[39m\"\u001b[39;49m\u001b[39msize\u001b[39;49m\u001b[39m\"\u001b[39;49m: {\u001b[39m\"\u001b[39;49m\u001b[39mh\u001b[39;49m\u001b[39m\"\u001b[39;49m: \u001b[39m28\u001b[39;49m, \u001b[39m\"\u001b[39;49m\u001b[39mw\u001b[39;49m\u001b[39m\"\u001b[39;49m: \u001b[39m35.5\u001b[39;49m, \u001b[39m\"\u001b[39;49m\u001b[39muom\u001b[39;49m\u001b[39m\"\u001b[39;49m: \u001b[39m\"\u001b[39;49m\u001b[39mcm\u001b[39;49m\u001b[39m\"\u001b[39;49m},\n\u001b[0;32m      5\u001b[0m      \u001b[39m\"\u001b[39;49m\u001b[39mstatus\u001b[39;49m\u001b[39m\"\u001b[39;49m: \u001b[39m\"\u001b[39;49m\u001b[39mA\u001b[39;49m\u001b[39m\"\u001b[39;49m},\n\u001b[0;32m      6\u001b[0m     {\u001b[39m\"\u001b[39;49m\u001b[39mitem\u001b[39;49m\u001b[39m\"\u001b[39;49m: \u001b[39m\"\u001b[39;49m\u001b[39mjournal\u001b[39;49m\u001b[39m\"\u001b[39;49m,\n\u001b[0;32m      7\u001b[0m      \u001b[39m\"\u001b[39;49m\u001b[39mqty\u001b[39;49m\u001b[39m\"\u001b[39;49m: \u001b[39m25\u001b[39;49m,\n\u001b[0;32m      8\u001b[0m      \u001b[39m\"\u001b[39;49m\u001b[39msize\u001b[39;49m\u001b[39m\"\u001b[39;49m: {\u001b[39m\"\u001b[39;49m\u001b[39mh\u001b[39;49m\u001b[39m\"\u001b[39;49m: \u001b[39m14\u001b[39;49m, \u001b[39m\"\u001b[39;49m\u001b[39mw\u001b[39;49m\u001b[39m\"\u001b[39;49m: \u001b[39m21\u001b[39;49m, \u001b[39m\"\u001b[39;49m\u001b[39muom\u001b[39;49m\u001b[39m\"\u001b[39;49m: \u001b[39m\"\u001b[39;49m\u001b[39mcm\u001b[39;49m\u001b[39m\"\u001b[39;49m},\n\u001b[0;32m      9\u001b[0m      \u001b[39m\"\u001b[39;49m\u001b[39mstatus\u001b[39;49m\u001b[39m\"\u001b[39;49m: \u001b[39m\"\u001b[39;49m\u001b[39mA\u001b[39;49m\u001b[39m\"\u001b[39;49m},\n\u001b[0;32m     10\u001b[0m     {\u001b[39m\"\u001b[39;49m\u001b[39mitem\u001b[39;49m\u001b[39m\"\u001b[39;49m: \u001b[39m\"\u001b[39;49m\u001b[39mmat\u001b[39;49m\u001b[39m\"\u001b[39;49m,\n\u001b[0;32m     11\u001b[0m      \u001b[39m\"\u001b[39;49m\u001b[39mqty\u001b[39;49m\u001b[39m\"\u001b[39;49m: \u001b[39m85\u001b[39;49m,\n\u001b[0;32m     12\u001b[0m      \u001b[39m\"\u001b[39;49m\u001b[39msize\u001b[39;49m\u001b[39m\"\u001b[39;49m: {\u001b[39m\"\u001b[39;49m\u001b[39mh\u001b[39;49m\u001b[39m\"\u001b[39;49m: \u001b[39m27.9\u001b[39;49m, \u001b[39m\"\u001b[39;49m\u001b[39mw\u001b[39;49m\u001b[39m\"\u001b[39;49m: \u001b[39m35.5\u001b[39;49m, \u001b[39m\"\u001b[39;49m\u001b[39muom\u001b[39;49m\u001b[39m\"\u001b[39;49m: \u001b[39m\"\u001b[39;49m\u001b[39mcm\u001b[39;49m\u001b[39m\"\u001b[39;49m},\n\u001b[0;32m     13\u001b[0m      \u001b[39m\"\u001b[39;49m\u001b[39mstatus\u001b[39;49m\u001b[39m\"\u001b[39;49m: \u001b[39m\"\u001b[39;49m\u001b[39mA\u001b[39;49m\u001b[39m\"\u001b[39;49m},\n\u001b[0;32m     14\u001b[0m     {\u001b[39m\"\u001b[39;49m\u001b[39mitem\u001b[39;49m\u001b[39m\"\u001b[39;49m: \u001b[39m\"\u001b[39;49m\u001b[39mmousepad\u001b[39;49m\u001b[39m\"\u001b[39;49m,\n\u001b[0;32m     15\u001b[0m      \u001b[39m\"\u001b[39;49m\u001b[39mqty\u001b[39;49m\u001b[39m\"\u001b[39;49m: \u001b[39m25\u001b[39;49m,\n\u001b[0;32m     16\u001b[0m      \u001b[39m\"\u001b[39;49m\u001b[39msize\u001b[39;49m\u001b[39m\"\u001b[39;49m: {\u001b[39m\"\u001b[39;49m\u001b[39mh\u001b[39;49m\u001b[39m\"\u001b[39;49m: \u001b[39m19\u001b[39;49m, \u001b[39m\"\u001b[39;49m\u001b[39mw\u001b[39;49m\u001b[39m\"\u001b[39;49m: \u001b[39m22.85\u001b[39;49m, \u001b[39m\"\u001b[39;49m\u001b[39muom\u001b[39;49m\u001b[39m\"\u001b[39;49m: \u001b[39m\"\u001b[39;49m\u001b[39mcm\u001b[39;49m\u001b[39m\"\u001b[39;49m},\n\u001b[0;32m     17\u001b[0m      \u001b[39m\"\u001b[39;49m\u001b[39mstatus\u001b[39;49m\u001b[39m\"\u001b[39;49m: \u001b[39m\"\u001b[39;49m\u001b[39mP\u001b[39;49m\u001b[39m\"\u001b[39;49m},\n\u001b[0;32m     18\u001b[0m     {\u001b[39m\"\u001b[39;49m\u001b[39mitem\u001b[39;49m\u001b[39m\"\u001b[39;49m: \u001b[39m\"\u001b[39;49m\u001b[39mnotebook\u001b[39;49m\u001b[39m\"\u001b[39;49m,\n\u001b[0;32m     19\u001b[0m      \u001b[39m\"\u001b[39;49m\u001b[39mqty\u001b[39;49m\u001b[39m\"\u001b[39;49m: \u001b[39m50\u001b[39;49m,\n\u001b[0;32m     20\u001b[0m      \u001b[39m\"\u001b[39;49m\u001b[39msize\u001b[39;49m\u001b[39m\"\u001b[39;49m: {\u001b[39m\"\u001b[39;49m\u001b[39mh\u001b[39;49m\u001b[39m\"\u001b[39;49m: \u001b[39m8.5\u001b[39;49m, \u001b[39m\"\u001b[39;49m\u001b[39mw\u001b[39;49m\u001b[39m\"\u001b[39;49m: \u001b[39m11\u001b[39;49m, \u001b[39m\"\u001b[39;49m\u001b[39muom\u001b[39;49m\u001b[39m\"\u001b[39;49m: \u001b[39m\"\u001b[39;49m\u001b[39min\u001b[39;49m\u001b[39m\"\u001b[39;49m},\n\u001b[0;32m     21\u001b[0m      \u001b[39m\"\u001b[39;49m\u001b[39mstatus\u001b[39;49m\u001b[39m\"\u001b[39;49m: \u001b[39m\"\u001b[39;49m\u001b[39mP\u001b[39;49m\u001b[39m\"\u001b[39;49m},\n\u001b[0;32m     22\u001b[0m     {\u001b[39m\"\u001b[39;49m\u001b[39mitem\u001b[39;49m\u001b[39m\"\u001b[39;49m: \u001b[39m\"\u001b[39;49m\u001b[39mpaper\u001b[39;49m\u001b[39m\"\u001b[39;49m,\n\u001b[0;32m     23\u001b[0m      \u001b[39m\"\u001b[39;49m\u001b[39mqty\u001b[39;49m\u001b[39m\"\u001b[39;49m: \u001b[39m100\u001b[39;49m,\n\u001b[0;32m     24\u001b[0m      \u001b[39m\"\u001b[39;49m\u001b[39msize\u001b[39;49m\u001b[39m\"\u001b[39;49m: {\u001b[39m\"\u001b[39;49m\u001b[39mh\u001b[39;49m\u001b[39m\"\u001b[39;49m: \u001b[39m8.5\u001b[39;49m, \u001b[39m\"\u001b[39;49m\u001b[39mw\u001b[39;49m\u001b[39m\"\u001b[39;49m: \u001b[39m11\u001b[39;49m, \u001b[39m\"\u001b[39;49m\u001b[39muom\u001b[39;49m\u001b[39m\"\u001b[39;49m: \u001b[39m\"\u001b[39;49m\u001b[39min\u001b[39;49m\u001b[39m\"\u001b[39;49m},\n\u001b[0;32m     25\u001b[0m      \u001b[39m\"\u001b[39;49m\u001b[39mstatus\u001b[39;49m\u001b[39m\"\u001b[39;49m: \u001b[39m\"\u001b[39;49m\u001b[39mD\u001b[39;49m\u001b[39m\"\u001b[39;49m},\n\u001b[0;32m     26\u001b[0m     {\u001b[39m\"\u001b[39;49m\u001b[39mitem\u001b[39;49m\u001b[39m\"\u001b[39;49m: \u001b[39m\"\u001b[39;49m\u001b[39mplanner\u001b[39;49m\u001b[39m\"\u001b[39;49m,\n\u001b[0;32m     27\u001b[0m      \u001b[39m\"\u001b[39;49m\u001b[39mqty\u001b[39;49m\u001b[39m\"\u001b[39;49m: \u001b[39m75\u001b[39;49m,\n\u001b[0;32m     28\u001b[0m      \u001b[39m\"\u001b[39;49m\u001b[39msize\u001b[39;49m\u001b[39m\"\u001b[39;49m: {\u001b[39m\"\u001b[39;49m\u001b[39mh\u001b[39;49m\u001b[39m\"\u001b[39;49m: \u001b[39m22.85\u001b[39;49m, \u001b[39m\"\u001b[39;49m\u001b[39mw\u001b[39;49m\u001b[39m\"\u001b[39;49m: \u001b[39m30\u001b[39;49m, \u001b[39m\"\u001b[39;49m\u001b[39muom\u001b[39;49m\u001b[39m\"\u001b[39;49m: \u001b[39m\"\u001b[39;49m\u001b[39mcm\u001b[39;49m\u001b[39m\"\u001b[39;49m},\n\u001b[0;32m     29\u001b[0m      \u001b[39m\"\u001b[39;49m\u001b[39mstatus\u001b[39;49m\u001b[39m\"\u001b[39;49m: \u001b[39m\"\u001b[39;49m\u001b[39mD\u001b[39;49m\u001b[39m\"\u001b[39;49m},\n\u001b[0;32m     30\u001b[0m     {\u001b[39m\"\u001b[39;49m\u001b[39mitem\u001b[39;49m\u001b[39m\"\u001b[39;49m: \u001b[39m\"\u001b[39;49m\u001b[39mpostcard\u001b[39;49m\u001b[39m\"\u001b[39;49m,\n\u001b[0;32m     31\u001b[0m      \u001b[39m\"\u001b[39;49m\u001b[39mqty\u001b[39;49m\u001b[39m\"\u001b[39;49m: \u001b[39m45\u001b[39;49m,\n\u001b[0;32m     32\u001b[0m      \u001b[39m\"\u001b[39;49m\u001b[39msize\u001b[39;49m\u001b[39m\"\u001b[39;49m: {\u001b[39m\"\u001b[39;49m\u001b[39mh\u001b[39;49m\u001b[39m\"\u001b[39;49m: \u001b[39m10\u001b[39;49m, \u001b[39m\"\u001b[39;49m\u001b[39mw\u001b[39;49m\u001b[39m\"\u001b[39;49m: \u001b[39m15.25\u001b[39;49m, \u001b[39m\"\u001b[39;49m\u001b[39muom\u001b[39;49m\u001b[39m\"\u001b[39;49m: \u001b[39m\"\u001b[39;49m\u001b[39mcm\u001b[39;49m\u001b[39m\"\u001b[39;49m},\n\u001b[0;32m     33\u001b[0m      \u001b[39m\"\u001b[39;49m\u001b[39mstatus\u001b[39;49m\u001b[39m\"\u001b[39;49m: \u001b[39m\"\u001b[39;49m\u001b[39mA\u001b[39;49m\u001b[39m\"\u001b[39;49m},\n\u001b[0;32m     34\u001b[0m     {\u001b[39m\"\u001b[39;49m\u001b[39mitem\u001b[39;49m\u001b[39m\"\u001b[39;49m: \u001b[39m\"\u001b[39;49m\u001b[39msketchbook\u001b[39;49m\u001b[39m\"\u001b[39;49m,\n\u001b[0;32m     35\u001b[0m      \u001b[39m\"\u001b[39;49m\u001b[39mqty\u001b[39;49m\u001b[39m\"\u001b[39;49m: \u001b[39m80\u001b[39;49m,\n\u001b[0;32m     36\u001b[0m      \u001b[39m\"\u001b[39;49m\u001b[39msize\u001b[39;49m\u001b[39m\"\u001b[39;49m: {\u001b[39m\"\u001b[39;49m\u001b[39mh\u001b[39;49m\u001b[39m\"\u001b[39;49m: \u001b[39m14\u001b[39;49m, \u001b[39m\"\u001b[39;49m\u001b[39mw\u001b[39;49m\u001b[39m\"\u001b[39;49m: \u001b[39m21\u001b[39;49m, \u001b[39m\"\u001b[39;49m\u001b[39muom\u001b[39;49m\u001b[39m\"\u001b[39;49m: \u001b[39m\"\u001b[39;49m\u001b[39mcm\u001b[39;49m\u001b[39m\"\u001b[39;49m},\n\u001b[0;32m     37\u001b[0m      \u001b[39m\"\u001b[39;49m\u001b[39mstatus\u001b[39;49m\u001b[39m\"\u001b[39;49m: \u001b[39m\"\u001b[39;49m\u001b[39mA\u001b[39;49m\u001b[39m\"\u001b[39;49m},\n\u001b[0;32m     38\u001b[0m     {\u001b[39m\"\u001b[39;49m\u001b[39mitem\u001b[39;49m\u001b[39m\"\u001b[39;49m: \u001b[39m\"\u001b[39;49m\u001b[39msketch pad\u001b[39;49m\u001b[39m\"\u001b[39;49m,\n\u001b[0;32m     39\u001b[0m      \u001b[39m\"\u001b[39;49m\u001b[39mqty\u001b[39;49m\u001b[39m\"\u001b[39;49m: \u001b[39m95\u001b[39;49m,\n\u001b[0;32m     40\u001b[0m      \u001b[39m\"\u001b[39;49m\u001b[39msize\u001b[39;49m\u001b[39m\"\u001b[39;49m: {\u001b[39m\"\u001b[39;49m\u001b[39mh\u001b[39;49m\u001b[39m\"\u001b[39;49m: \u001b[39m22.85\u001b[39;49m, \u001b[39m\"\u001b[39;49m\u001b[39mw\u001b[39;49m\u001b[39m\"\u001b[39;49m: \u001b[39m30.5\u001b[39;49m, \u001b[39m\"\u001b[39;49m\u001b[39muom\u001b[39;49m\u001b[39m\"\u001b[39;49m: \u001b[39m\"\u001b[39;49m\u001b[39mcm\u001b[39;49m\u001b[39m\"\u001b[39;49m},\n\u001b[0;32m     41\u001b[0m      \u001b[39m\"\u001b[39;49m\u001b[39mstatus\u001b[39;49m\u001b[39m\"\u001b[39;49m: \u001b[39m\"\u001b[39;49m\u001b[39mA\u001b[39;49m\u001b[39m\"\u001b[39;49m}]))\n",
      "File \u001b[1;32mc:\\Users\\Gaurav\\AppData\\Local\\Programs\\Python\\Python311\\Lib\\site-packages\\pymongo\\_csot.py:105\u001b[0m, in \u001b[0;36mapply.<locals>.csot_wrapper\u001b[1;34m(self, *args, **kwargs)\u001b[0m\n\u001b[0;32m    103\u001b[0m         \u001b[39mwith\u001b[39;00m _TimeoutContext(timeout):\n\u001b[0;32m    104\u001b[0m             \u001b[39mreturn\u001b[39;00m func(\u001b[39mself\u001b[39m, \u001b[39m*\u001b[39margs, \u001b[39m*\u001b[39m\u001b[39m*\u001b[39mkwargs)\n\u001b[1;32m--> 105\u001b[0m \u001b[39mreturn\u001b[39;00m func(\u001b[39mself\u001b[39;49m, \u001b[39m*\u001b[39;49margs, \u001b[39m*\u001b[39;49m\u001b[39m*\u001b[39;49mkwargs)\n",
      "\u001b[1;31mTypeError\u001b[0m: Collection.insert_many() got an unexpected keyword argument 'records'"
     ]
    }
   ],
   "source": [
    "inventory.insert_many(records=([\n",
    "    {\"item\": \"canvas\",\n",
    "     \"qty\": 100,\n",
    "     \"size\": {\"h\": 28, \"w\": 35.5, \"uom\": \"cm\"},\n",
    "     \"status\": \"A\"},\n",
    "    {\"item\": \"journal\",\n",
    "     \"qty\": 25,\n",
    "     \"size\": {\"h\": 14, \"w\": 21, \"uom\": \"cm\"},\n",
    "     \"status\": \"A\"},\n",
    "    {\"item\": \"mat\",\n",
    "     \"qty\": 85,\n",
    "     \"size\": {\"h\": 27.9, \"w\": 35.5, \"uom\": \"cm\"},\n",
    "     \"status\": \"A\"},\n",
    "    {\"item\": \"mousepad\",\n",
    "     \"qty\": 25,\n",
    "     \"size\": {\"h\": 19, \"w\": 22.85, \"uom\": \"cm\"},\n",
    "     \"status\": \"P\"},\n",
    "    {\"item\": \"notebook\",\n",
    "     \"qty\": 50,\n",
    "     \"size\": {\"h\": 8.5, \"w\": 11, \"uom\": \"in\"},\n",
    "     \"status\": \"P\"},\n",
    "    {\"item\": \"paper\",\n",
    "     \"qty\": 100,\n",
    "     \"size\": {\"h\": 8.5, \"w\": 11, \"uom\": \"in\"},\n",
    "     \"status\": \"D\"},\n",
    "    {\"item\": \"planner\",\n",
    "     \"qty\": 75,\n",
    "     \"size\": {\"h\": 22.85, \"w\": 30, \"uom\": \"cm\"},\n",
    "     \"status\": \"D\"},\n",
    "    {\"item\": \"postcard\",\n",
    "     \"qty\": 45,\n",
    "     \"size\": {\"h\": 10, \"w\": 15.25, \"uom\": \"cm\"},\n",
    "     \"status\": \"A\"},\n",
    "    {\"item\": \"sketchbook\",\n",
    "     \"qty\": 80,\n",
    "     \"size\": {\"h\": 14, \"w\": 21, \"uom\": \"cm\"},\n",
    "     \"status\": \"A\"},\n",
    "    {\"item\": \"sketch pad\",\n",
    "     \"qty\": 95,\n",
    "     \"size\": {\"h\": 22.85, \"w\": 30.5, \"uom\": \"cm\"},\n",
    "     \"status\": \"A\"}]))"
   ]
  },
  {
   "cell_type": "code",
   "execution_count": 5,
   "metadata": {},
   "outputs": [
    {
     "ename": "NameError",
     "evalue": "name 'inventory' is not defined",
     "output_type": "error",
     "traceback": [
      "\u001b[1;31m---------------------------------------------------------------------------\u001b[0m",
      "\u001b[1;31mNameError\u001b[0m                                 Traceback (most recent call last)",
      "Cell \u001b[1;32mIn [5], line 1\u001b[0m\n\u001b[1;32m----> 1\u001b[0m inventory\u001b[39m.\u001b[39minsert_many(records)\n",
      "\u001b[1;31mNameError\u001b[0m: name 'inventory' is not defined"
     ]
    }
   ],
   "source": [
    "inventory.insert_many(records)"
   ]
  },
  {
   "cell_type": "code",
   "execution_count": 13,
   "metadata": {},
   "outputs": [],
   "source": [
    "inventory = db.stdinventory"
   ]
  }
 ],
 "metadata": {
  "kernelspec": {
   "display_name": "Python 3.11.0 64-bit",
   "language": "python",
   "name": "python3"
  },
  "language_info": {
   "codemirror_mode": {
    "name": "ipython",
    "version": 3
   },
   "file_extension": ".py",
   "mimetype": "text/x-python",
   "name": "python",
   "nbconvert_exporter": "python",
   "pygments_lexer": "ipython3",
   "version": "3.11.0"
  },
  "orig_nbformat": 4,
  "vscode": {
   "interpreter": {
    "hash": "a5f954a518b072afc267ebd6eb29b2da47959f1e543e90f8fa4fe0e403b8accf"
   }
  }
 },
 "nbformat": 4,
 "nbformat_minor": 2
}
