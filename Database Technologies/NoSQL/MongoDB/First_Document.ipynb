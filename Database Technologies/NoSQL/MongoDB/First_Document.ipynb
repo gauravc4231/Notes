{
 "cells": [
  {
   "cell_type": "code",
   "execution_count": 6,
   "metadata": {},
   "outputs": [
    {
     "ename": "SyntaxError",
     "evalue": "invalid syntax. Perhaps you forgot a comma? (860725446.py, line 7)",
     "output_type": "error",
     "traceback": [
      "\u001b[1;36m  Cell \u001b[1;32mIn [6], line 7\u001b[1;36m\u001b[0m\n\u001b[1;33m    \"likes\":100\u001b[0m\n\u001b[1;37m            ^\u001b[0m\n\u001b[1;31mSyntaxError\u001b[0m\u001b[1;31m:\u001b[0m invalid syntax. Perhaps you forgot a comma?\n"
     ]
    }
   ],
   "source": [
    "{\n",
    "\"title\":\"MongoDB Overview\",\n",
    "\"Description\":\"MongoDB is no sql\",\n",
    "\"by\":\"Tutorials point\",\n",
    "\"url\":\"http://www.tutorialpoint.com\",\n",
    "\"tags\":['mongodb','database','NoSQL'],\n",
    "\"likes\":100\n",
    "comments:[\n",
    "{\n",
    "\"user\":'user1',\n",
    "\"message\":'My first comment',\n",
    "\"dataCeated\":new date(2011,1,20,2,15),\n",
    "\"like\":0\n",
    "},\n",
    "{\n",
    "\"user\":'user2',\n",
    "\"message\":new date(2011,1,25,7,45),\n",
    "\"like\":5\n",
    "}\n",
    "]\n",
    "}"
   ]
  }
 ],
 "metadata": {
  "kernelspec": {
   "display_name": "Python 3.11.0 64-bit",
   "language": "python",
   "name": "python3"
  },
  "language_info": {
   "codemirror_mode": {
    "name": "ipython",
    "version": 3
   },
   "file_extension": ".py",
   "mimetype": "text/x-python",
   "name": "python",
   "nbconvert_exporter": "python",
   "pygments_lexer": "ipython3",
   "version": "3.11.0"
  },
  "orig_nbformat": 4,
  "vscode": {
   "interpreter": {
    "hash": "a5f954a518b072afc267ebd6eb29b2da47959f1e543e90f8fa4fe0e403b8accf"
   }
  }
 },
 "nbformat": 4,
 "nbformat_minor": 2
}
